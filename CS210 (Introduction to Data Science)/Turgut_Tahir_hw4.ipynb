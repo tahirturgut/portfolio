{
  "nbformat": 4,
  "nbformat_minor": 0,
  "metadata": {
    "colab": {
      "name": "Turgut_Tahir_hw4.ipynb",
      "provenance": [],
      "collapsed_sections": [],
      "toc_visible": true
    },
    "kernelspec": {
      "name": "python3",
      "display_name": "Python 3"
    }
  },
  "cells": [
    {
      "cell_type": "markdown",
      "metadata": {
        "id": "KKD90mb9fjH2"
      },
      "source": [
        "# Homework 4: Random Forests\r\n",
        "\r\n",
        "*In this homework, you will work with a Speed Dating Dataset and apply the Random Forest model on the dataset after establishing preprocessing tasks.*\r\n",
        "\r\n",
        "**Submission Instructions**\r\n",
        "\r\n",
        "---\r\n",
        "It is important that you follow the submission instructions. \r\n",
        "1. Copy this assignment notebook to your Drive. <font color = 'red'> `File` --> `Save a copy in Drive`</font>. Rename it as <font color = 'green'>`Lastname_Firstname_hw4`</font>.\r\n",
        "\r\n",
        "2. Write your solutions in the cells  marked <font color = 'green'>`# your code`</font>.\r\n",
        "\r\n",
        "3. **Do not delete your outputs. They are essential for the grading. Make sure that cells containing your solutions are executed, and the results are displayed on the notebook.**\r\n",
        "\r\n",
        "4. When you're done please submit your solutions as an <font color=\"red\">`.ipynb`</font> file. To do so:\r\n",
        "\r\n",
        "  - Click on <font color=\"red\">`File`</font>  at the top left on the Colab screen, then click on <font color = 'red'>`Download .ipynb`</font>.\r\n",
        "  - Then submit the downloaded <font color=\"red\">`.ipynb`</font> version of your work on SUCourse.\r\n",
        "\r\n",
        "\r\n",
        "For any question, you may send an email to your TAs and LAs."
      ]
    },
    {
      "cell_type": "markdown",
      "metadata": {
        "id": "yM1mnUs9fnSR"
      },
      "source": [
        "__________________________________\r\n",
        "## Dataset Description\r\n",
        "\r\n",
        "![](https://www.xfactordates.com/wp-content/uploads/2019/06/speeddating-1205-RGB-1-780x415.jpg)\r\n",
        "\r\n",
        "In this homework, you will work on a simplified version of the [Speed Dating Experiment dataset from Kaggle](https://www.kaggle.com/annavictoria/speed-dating-experiment). \r\n",
        "\r\n",
        "Each instance in the dataset denotes a speed date between a participant and an assigned partner. For clarity, the descriptions below call the first participant as the main participant and the second participant as the assigned participant. \r\n",
        "\r\n",
        "The first 8 attributes in the dataset give information about the participants and their speed date assignment in the whole event. Among these attributes, ones that are not self-explanatory are described below.\r\n",
        "\r\n",
        "```\r\n",
        "iid: Unique participant number,\r\n",
        "pid: Unique assigned partner number\r\n",
        "wave: Number of the session where date took place\r\n",
        "round: Number of people that met in wave\r\n",
        "position: Station number where met partner (You can consider this like table number)\r\n",
        "order: The number of date that night when met partner\r\n",
        "```\r\n",
        "\r\n",
        "After these features, we have the attributes regarding the preferences and scores of both the participant and the other assigned participant. Here, the easiest way to understand whether an attribute is for the main participant or the assigned participant is from the names of these attributes. Attributes including the `_o` in them belong to the assigned participants. To explain this further, below are attributes showing the scores given to the assigned participant by the main participant.\r\n",
        "\r\n",
        "```\r\n",
        "These are score attributes given to assigned partner (from 1 to 10)\r\n",
        "attr: Rating of attractiveness\r\n",
        "sinc: Rating of sincerity\r\n",
        "intel: Rating of intelligence\r\n",
        "fun: Rating of how fun the person is\r\n",
        "amb: Rating of ambitiousness\r\n",
        "shar: Rating of shared interests\r\n",
        "like: Rating of liking the person\r\n",
        "prob: Rating of probability of further dates with the person\r\n",
        "```\r\n",
        "\r\n",
        "As explained above, this time, the following attributes are scores given to the main participant by the assigned participant: `attr_o, sinc_o, intel_o, fun_o, amb_o, shar_o, like_o, prob_o`.\r\n",
        "\r\n",
        "In addition to these features, you will also see numbered features like `attr2_1` or `sinc3_1`. For these features, the first number denotes the context of these attributes. Below, you can see the questions asked to participants for these attributes.\r\n",
        "\r\n",
        "```\r\n",
        "Question 1: Please rate the importance of the following attributes in a potential date.\r\n",
        "(Total 100 points are distributed among features below.)\r\n",
        "  - attr1_1, sinc1_1, intel1_1, fun1_1, amb1_1, shar1_1 are responses of participants to the Question 1\r\n",
        "\r\n",
        "Question 2: What do you think the opposite sex looks for in a date?\r\n",
        "(Total 100 points are distributed among features below.)\r\n",
        "  - attr2_1, sinc2_1, intel2_1, fun2_1, amb2_1, shar2_1 are responses of participants to the Question 2\r\n",
        "\r\n",
        "Question 3: How do you think you measure up?\r\n",
        "(From 1 to 10 for each feature)\r\n",
        "  - attr3_1, sinc3_1, intel3_1, fun3_1, amb3_1, shar3_1 are responses of participants to the Question 3\r\n",
        "```\r\n",
        "\r\n",
        "The second number denotes the time of feature being recorded. As these features are recorded multiple times during and after the event, \r\n",
        "in the original dataset there are features with different record times. In our simplified version, we only selected the initial answers of these individuals, so that the second number in these features are always 1.  \r\n",
        "\r\n",
        "Additionally, there are features coded as `pf_o_attr, pf_o_sin, pf_o_int, pf_o_fun, pf_o_amb, pf_o_sha`. These features denote the initial preferences of the assigned participant in a potential date *(Total 100 points are distributed among features)*.\r\n",
        "\r\n",
        "Most of the features in the dataset consist of numeric ordinal values. After establishing the tasks introduced in the Data Preprocessing, the dataset is almost ready to be applied to machine learning models.\r\n",
        "\r\n",
        "In the machine learning part, we will be interested in predicting the decision of the participants' to continue dating the assigned partner. Values for information are stored in the `dec` attribute. Similar to the attributes described earlier, we also have assigned partners' decisions stored in the `dec_o` attribute.\r\n",
        "\r\n",
        "For other features and further information about the attributes, you can visit the Kaggle page for the dataset and check the Data Key file shared there. However, please note that the dataset used in this homework is a simplified format of the original dataset to make your processes easier. Because of this, some of the attributes documented in the Data Key file may not be in the dataset shared with you.\r\n",
        "\r\n",
        "________________________________"
      ]
    },
    {
      "cell_type": "code",
      "metadata": {
        "colab": {
          "base_uri": "https://localhost:8080/"
        },
        "id": "sp-MELUQATeL",
        "outputId": "21c19a57-53d0-45ec-bf14-04acdbe5df34"
      },
      "source": [
        "from google.colab import drive\r\n",
        "drive.mount(\"./drive\", force_remount= True)\r\n",
        "\r\n",
        "path_prefix = \"./drive/My Drive\""
      ],
      "execution_count": 27,
      "outputs": [
        {
          "output_type": "stream",
          "text": [
            "Mounted at ./drive\n"
          ],
          "name": "stdout"
        }
      ]
    },
    {
      "cell_type": "code",
      "metadata": {
        "id": "2JupvmkzAUYc"
      },
      "source": [
        "import pandas as pd\r\n",
        "import numpy as np\r\n",
        "import matplotlib.pyplot as plt\r\n",
        "from os.path import join\r\n",
        "\r\n",
        "%matplotlib inline"
      ],
      "execution_count": 28,
      "outputs": []
    },
    {
      "cell_type": "code",
      "metadata": {
        "colab": {
          "base_uri": "https://localhost:8080/",
          "height": 244
        },
        "id": "EIgdF02oAW_4",
        "outputId": "405cfb2c-4352-4be5-aaab-bd569fb0096c"
      },
      "source": [
        "fname = \"SpeedDatingData.csv\"\r\n",
        "df = pd.read_csv(join(path_prefix, fname))\r\n",
        "df.head()"
      ],
      "execution_count": 29,
      "outputs": [
        {
          "output_type": "execute_result",
          "data": {
            "text/html": [
              "<div>\n",
              "<style scoped>\n",
              "    .dataframe tbody tr th:only-of-type {\n",
              "        vertical-align: middle;\n",
              "    }\n",
              "\n",
              "    .dataframe tbody tr th {\n",
              "        vertical-align: top;\n",
              "    }\n",
              "\n",
              "    .dataframe thead th {\n",
              "        text-align: right;\n",
              "    }\n",
              "</style>\n",
              "<table border=\"1\" class=\"dataframe\">\n",
              "  <thead>\n",
              "    <tr style=\"text-align: right;\">\n",
              "      <th></th>\n",
              "      <th>iid</th>\n",
              "      <th>id</th>\n",
              "      <th>gender</th>\n",
              "      <th>wave</th>\n",
              "      <th>round</th>\n",
              "      <th>position</th>\n",
              "      <th>order</th>\n",
              "      <th>pid</th>\n",
              "      <th>samerace</th>\n",
              "      <th>age_o</th>\n",
              "      <th>pf_o_att</th>\n",
              "      <th>pf_o_sin</th>\n",
              "      <th>pf_o_int</th>\n",
              "      <th>pf_o_fun</th>\n",
              "      <th>pf_o_amb</th>\n",
              "      <th>pf_o_sha</th>\n",
              "      <th>dec_o</th>\n",
              "      <th>attr_o</th>\n",
              "      <th>sinc_o</th>\n",
              "      <th>intel_o</th>\n",
              "      <th>fun_o</th>\n",
              "      <th>amb_o</th>\n",
              "      <th>shar_o</th>\n",
              "      <th>like_o</th>\n",
              "      <th>prob_o</th>\n",
              "      <th>met_o</th>\n",
              "      <th>age</th>\n",
              "      <th>undergra</th>\n",
              "      <th>mn_sat</th>\n",
              "      <th>tuition</th>\n",
              "      <th>imprace</th>\n",
              "      <th>imprelig</th>\n",
              "      <th>from</th>\n",
              "      <th>zipcode</th>\n",
              "      <th>income</th>\n",
              "      <th>goal</th>\n",
              "      <th>date</th>\n",
              "      <th>go_out</th>\n",
              "      <th>sports</th>\n",
              "      <th>tvsports</th>\n",
              "      <th>...</th>\n",
              "      <th>gaming</th>\n",
              "      <th>clubbing</th>\n",
              "      <th>reading</th>\n",
              "      <th>tv</th>\n",
              "      <th>theater</th>\n",
              "      <th>movies</th>\n",
              "      <th>concerts</th>\n",
              "      <th>music</th>\n",
              "      <th>shopping</th>\n",
              "      <th>yoga</th>\n",
              "      <th>exphappy</th>\n",
              "      <th>expnum</th>\n",
              "      <th>attr1_1</th>\n",
              "      <th>sinc1_1</th>\n",
              "      <th>intel1_1</th>\n",
              "      <th>fun1_1</th>\n",
              "      <th>amb1_1</th>\n",
              "      <th>shar1_1</th>\n",
              "      <th>attr2_1</th>\n",
              "      <th>sinc2_1</th>\n",
              "      <th>intel2_1</th>\n",
              "      <th>fun2_1</th>\n",
              "      <th>amb2_1</th>\n",
              "      <th>shar2_1</th>\n",
              "      <th>attr3_1</th>\n",
              "      <th>sinc3_1</th>\n",
              "      <th>fun3_1</th>\n",
              "      <th>intel3_1</th>\n",
              "      <th>amb3_1</th>\n",
              "      <th>dec</th>\n",
              "      <th>attr</th>\n",
              "      <th>sinc</th>\n",
              "      <th>intel</th>\n",
              "      <th>fun</th>\n",
              "      <th>amb</th>\n",
              "      <th>shar</th>\n",
              "      <th>like</th>\n",
              "      <th>prob</th>\n",
              "      <th>met</th>\n",
              "      <th>match_es</th>\n",
              "    </tr>\n",
              "  </thead>\n",
              "  <tbody>\n",
              "    <tr>\n",
              "      <th>0</th>\n",
              "      <td>1</td>\n",
              "      <td>1.0</td>\n",
              "      <td>0</td>\n",
              "      <td>1</td>\n",
              "      <td>10</td>\n",
              "      <td>7</td>\n",
              "      <td>4</td>\n",
              "      <td>11.0</td>\n",
              "      <td>0</td>\n",
              "      <td>27.0</td>\n",
              "      <td>35.0</td>\n",
              "      <td>20.0</td>\n",
              "      <td>20.0</td>\n",
              "      <td>20.0</td>\n",
              "      <td>0.0</td>\n",
              "      <td>5.0</td>\n",
              "      <td>0</td>\n",
              "      <td>6.0</td>\n",
              "      <td>8.0</td>\n",
              "      <td>8.0</td>\n",
              "      <td>8.0</td>\n",
              "      <td>8.0</td>\n",
              "      <td>6.0</td>\n",
              "      <td>7.0</td>\n",
              "      <td>4.0</td>\n",
              "      <td>2.0</td>\n",
              "      <td>21.0</td>\n",
              "      <td>NaN</td>\n",
              "      <td>NaN</td>\n",
              "      <td>NaN</td>\n",
              "      <td>2.0</td>\n",
              "      <td>4.0</td>\n",
              "      <td>Chicago</td>\n",
              "      <td>60,521</td>\n",
              "      <td>69,487.00</td>\n",
              "      <td>2.0</td>\n",
              "      <td>7.0</td>\n",
              "      <td>1.0</td>\n",
              "      <td>9.0</td>\n",
              "      <td>2.0</td>\n",
              "      <td>...</td>\n",
              "      <td>1.0</td>\n",
              "      <td>5.0</td>\n",
              "      <td>6.0</td>\n",
              "      <td>9.0</td>\n",
              "      <td>1.0</td>\n",
              "      <td>10.0</td>\n",
              "      <td>10.0</td>\n",
              "      <td>9.0</td>\n",
              "      <td>8.0</td>\n",
              "      <td>1.0</td>\n",
              "      <td>3.0</td>\n",
              "      <td>2.0</td>\n",
              "      <td>15.0</td>\n",
              "      <td>20.0</td>\n",
              "      <td>20.0</td>\n",
              "      <td>15.0</td>\n",
              "      <td>15.0</td>\n",
              "      <td>15.0</td>\n",
              "      <td>35.0</td>\n",
              "      <td>20.0</td>\n",
              "      <td>15.0</td>\n",
              "      <td>20.0</td>\n",
              "      <td>5.0</td>\n",
              "      <td>5.0</td>\n",
              "      <td>6.0</td>\n",
              "      <td>8.0</td>\n",
              "      <td>8.0</td>\n",
              "      <td>8.0</td>\n",
              "      <td>7.0</td>\n",
              "      <td>1</td>\n",
              "      <td>6.0</td>\n",
              "      <td>9.0</td>\n",
              "      <td>7.0</td>\n",
              "      <td>7.0</td>\n",
              "      <td>6.0</td>\n",
              "      <td>5.0</td>\n",
              "      <td>7.0</td>\n",
              "      <td>6.0</td>\n",
              "      <td>2.0</td>\n",
              "      <td>4.0</td>\n",
              "    </tr>\n",
              "    <tr>\n",
              "      <th>1</th>\n",
              "      <td>1</td>\n",
              "      <td>1.0</td>\n",
              "      <td>0</td>\n",
              "      <td>1</td>\n",
              "      <td>10</td>\n",
              "      <td>7</td>\n",
              "      <td>3</td>\n",
              "      <td>12.0</td>\n",
              "      <td>0</td>\n",
              "      <td>22.0</td>\n",
              "      <td>60.0</td>\n",
              "      <td>0.0</td>\n",
              "      <td>0.0</td>\n",
              "      <td>40.0</td>\n",
              "      <td>0.0</td>\n",
              "      <td>0.0</td>\n",
              "      <td>0</td>\n",
              "      <td>7.0</td>\n",
              "      <td>8.0</td>\n",
              "      <td>10.0</td>\n",
              "      <td>7.0</td>\n",
              "      <td>7.0</td>\n",
              "      <td>5.0</td>\n",
              "      <td>8.0</td>\n",
              "      <td>4.0</td>\n",
              "      <td>2.0</td>\n",
              "      <td>21.0</td>\n",
              "      <td>NaN</td>\n",
              "      <td>NaN</td>\n",
              "      <td>NaN</td>\n",
              "      <td>2.0</td>\n",
              "      <td>4.0</td>\n",
              "      <td>Chicago</td>\n",
              "      <td>60,521</td>\n",
              "      <td>69,487.00</td>\n",
              "      <td>2.0</td>\n",
              "      <td>7.0</td>\n",
              "      <td>1.0</td>\n",
              "      <td>9.0</td>\n",
              "      <td>2.0</td>\n",
              "      <td>...</td>\n",
              "      <td>1.0</td>\n",
              "      <td>5.0</td>\n",
              "      <td>6.0</td>\n",
              "      <td>9.0</td>\n",
              "      <td>1.0</td>\n",
              "      <td>10.0</td>\n",
              "      <td>10.0</td>\n",
              "      <td>9.0</td>\n",
              "      <td>8.0</td>\n",
              "      <td>1.0</td>\n",
              "      <td>3.0</td>\n",
              "      <td>2.0</td>\n",
              "      <td>15.0</td>\n",
              "      <td>20.0</td>\n",
              "      <td>20.0</td>\n",
              "      <td>15.0</td>\n",
              "      <td>15.0</td>\n",
              "      <td>15.0</td>\n",
              "      <td>35.0</td>\n",
              "      <td>20.0</td>\n",
              "      <td>15.0</td>\n",
              "      <td>20.0</td>\n",
              "      <td>5.0</td>\n",
              "      <td>5.0</td>\n",
              "      <td>6.0</td>\n",
              "      <td>8.0</td>\n",
              "      <td>8.0</td>\n",
              "      <td>8.0</td>\n",
              "      <td>7.0</td>\n",
              "      <td>1</td>\n",
              "      <td>7.0</td>\n",
              "      <td>8.0</td>\n",
              "      <td>7.0</td>\n",
              "      <td>8.0</td>\n",
              "      <td>5.0</td>\n",
              "      <td>6.0</td>\n",
              "      <td>7.0</td>\n",
              "      <td>5.0</td>\n",
              "      <td>1.0</td>\n",
              "      <td>4.0</td>\n",
              "    </tr>\n",
              "    <tr>\n",
              "      <th>2</th>\n",
              "      <td>1</td>\n",
              "      <td>1.0</td>\n",
              "      <td>0</td>\n",
              "      <td>1</td>\n",
              "      <td>10</td>\n",
              "      <td>7</td>\n",
              "      <td>10</td>\n",
              "      <td>13.0</td>\n",
              "      <td>1</td>\n",
              "      <td>22.0</td>\n",
              "      <td>19.0</td>\n",
              "      <td>18.0</td>\n",
              "      <td>19.0</td>\n",
              "      <td>18.0</td>\n",
              "      <td>14.0</td>\n",
              "      <td>12.0</td>\n",
              "      <td>1</td>\n",
              "      <td>10.0</td>\n",
              "      <td>10.0</td>\n",
              "      <td>10.0</td>\n",
              "      <td>10.0</td>\n",
              "      <td>10.0</td>\n",
              "      <td>10.0</td>\n",
              "      <td>10.0</td>\n",
              "      <td>10.0</td>\n",
              "      <td>1.0</td>\n",
              "      <td>21.0</td>\n",
              "      <td>NaN</td>\n",
              "      <td>NaN</td>\n",
              "      <td>NaN</td>\n",
              "      <td>2.0</td>\n",
              "      <td>4.0</td>\n",
              "      <td>Chicago</td>\n",
              "      <td>60,521</td>\n",
              "      <td>69,487.00</td>\n",
              "      <td>2.0</td>\n",
              "      <td>7.0</td>\n",
              "      <td>1.0</td>\n",
              "      <td>9.0</td>\n",
              "      <td>2.0</td>\n",
              "      <td>...</td>\n",
              "      <td>1.0</td>\n",
              "      <td>5.0</td>\n",
              "      <td>6.0</td>\n",
              "      <td>9.0</td>\n",
              "      <td>1.0</td>\n",
              "      <td>10.0</td>\n",
              "      <td>10.0</td>\n",
              "      <td>9.0</td>\n",
              "      <td>8.0</td>\n",
              "      <td>1.0</td>\n",
              "      <td>3.0</td>\n",
              "      <td>2.0</td>\n",
              "      <td>15.0</td>\n",
              "      <td>20.0</td>\n",
              "      <td>20.0</td>\n",
              "      <td>15.0</td>\n",
              "      <td>15.0</td>\n",
              "      <td>15.0</td>\n",
              "      <td>35.0</td>\n",
              "      <td>20.0</td>\n",
              "      <td>15.0</td>\n",
              "      <td>20.0</td>\n",
              "      <td>5.0</td>\n",
              "      <td>5.0</td>\n",
              "      <td>6.0</td>\n",
              "      <td>8.0</td>\n",
              "      <td>8.0</td>\n",
              "      <td>8.0</td>\n",
              "      <td>7.0</td>\n",
              "      <td>1</td>\n",
              "      <td>5.0</td>\n",
              "      <td>8.0</td>\n",
              "      <td>9.0</td>\n",
              "      <td>8.0</td>\n",
              "      <td>5.0</td>\n",
              "      <td>7.0</td>\n",
              "      <td>7.0</td>\n",
              "      <td>NaN</td>\n",
              "      <td>1.0</td>\n",
              "      <td>4.0</td>\n",
              "    </tr>\n",
              "    <tr>\n",
              "      <th>3</th>\n",
              "      <td>1</td>\n",
              "      <td>1.0</td>\n",
              "      <td>0</td>\n",
              "      <td>1</td>\n",
              "      <td>10</td>\n",
              "      <td>7</td>\n",
              "      <td>5</td>\n",
              "      <td>14.0</td>\n",
              "      <td>0</td>\n",
              "      <td>23.0</td>\n",
              "      <td>30.0</td>\n",
              "      <td>5.0</td>\n",
              "      <td>15.0</td>\n",
              "      <td>40.0</td>\n",
              "      <td>5.0</td>\n",
              "      <td>5.0</td>\n",
              "      <td>1</td>\n",
              "      <td>7.0</td>\n",
              "      <td>8.0</td>\n",
              "      <td>9.0</td>\n",
              "      <td>8.0</td>\n",
              "      <td>9.0</td>\n",
              "      <td>8.0</td>\n",
              "      <td>7.0</td>\n",
              "      <td>7.0</td>\n",
              "      <td>2.0</td>\n",
              "      <td>21.0</td>\n",
              "      <td>NaN</td>\n",
              "      <td>NaN</td>\n",
              "      <td>NaN</td>\n",
              "      <td>2.0</td>\n",
              "      <td>4.0</td>\n",
              "      <td>Chicago</td>\n",
              "      <td>60,521</td>\n",
              "      <td>69,487.00</td>\n",
              "      <td>2.0</td>\n",
              "      <td>7.0</td>\n",
              "      <td>1.0</td>\n",
              "      <td>9.0</td>\n",
              "      <td>2.0</td>\n",
              "      <td>...</td>\n",
              "      <td>1.0</td>\n",
              "      <td>5.0</td>\n",
              "      <td>6.0</td>\n",
              "      <td>9.0</td>\n",
              "      <td>1.0</td>\n",
              "      <td>10.0</td>\n",
              "      <td>10.0</td>\n",
              "      <td>9.0</td>\n",
              "      <td>8.0</td>\n",
              "      <td>1.0</td>\n",
              "      <td>3.0</td>\n",
              "      <td>2.0</td>\n",
              "      <td>15.0</td>\n",
              "      <td>20.0</td>\n",
              "      <td>20.0</td>\n",
              "      <td>15.0</td>\n",
              "      <td>15.0</td>\n",
              "      <td>15.0</td>\n",
              "      <td>35.0</td>\n",
              "      <td>20.0</td>\n",
              "      <td>15.0</td>\n",
              "      <td>20.0</td>\n",
              "      <td>5.0</td>\n",
              "      <td>5.0</td>\n",
              "      <td>6.0</td>\n",
              "      <td>8.0</td>\n",
              "      <td>8.0</td>\n",
              "      <td>8.0</td>\n",
              "      <td>7.0</td>\n",
              "      <td>1</td>\n",
              "      <td>7.0</td>\n",
              "      <td>6.0</td>\n",
              "      <td>8.0</td>\n",
              "      <td>7.0</td>\n",
              "      <td>6.0</td>\n",
              "      <td>8.0</td>\n",
              "      <td>7.0</td>\n",
              "      <td>6.0</td>\n",
              "      <td>2.0</td>\n",
              "      <td>4.0</td>\n",
              "    </tr>\n",
              "    <tr>\n",
              "      <th>4</th>\n",
              "      <td>1</td>\n",
              "      <td>1.0</td>\n",
              "      <td>0</td>\n",
              "      <td>1</td>\n",
              "      <td>10</td>\n",
              "      <td>7</td>\n",
              "      <td>7</td>\n",
              "      <td>15.0</td>\n",
              "      <td>0</td>\n",
              "      <td>24.0</td>\n",
              "      <td>30.0</td>\n",
              "      <td>10.0</td>\n",
              "      <td>20.0</td>\n",
              "      <td>10.0</td>\n",
              "      <td>10.0</td>\n",
              "      <td>20.0</td>\n",
              "      <td>1</td>\n",
              "      <td>8.0</td>\n",
              "      <td>7.0</td>\n",
              "      <td>9.0</td>\n",
              "      <td>6.0</td>\n",
              "      <td>9.0</td>\n",
              "      <td>7.0</td>\n",
              "      <td>8.0</td>\n",
              "      <td>6.0</td>\n",
              "      <td>2.0</td>\n",
              "      <td>21.0</td>\n",
              "      <td>NaN</td>\n",
              "      <td>NaN</td>\n",
              "      <td>NaN</td>\n",
              "      <td>2.0</td>\n",
              "      <td>4.0</td>\n",
              "      <td>Chicago</td>\n",
              "      <td>60,521</td>\n",
              "      <td>69,487.00</td>\n",
              "      <td>2.0</td>\n",
              "      <td>7.0</td>\n",
              "      <td>1.0</td>\n",
              "      <td>9.0</td>\n",
              "      <td>2.0</td>\n",
              "      <td>...</td>\n",
              "      <td>1.0</td>\n",
              "      <td>5.0</td>\n",
              "      <td>6.0</td>\n",
              "      <td>9.0</td>\n",
              "      <td>1.0</td>\n",
              "      <td>10.0</td>\n",
              "      <td>10.0</td>\n",
              "      <td>9.0</td>\n",
              "      <td>8.0</td>\n",
              "      <td>1.0</td>\n",
              "      <td>3.0</td>\n",
              "      <td>2.0</td>\n",
              "      <td>15.0</td>\n",
              "      <td>20.0</td>\n",
              "      <td>20.0</td>\n",
              "      <td>15.0</td>\n",
              "      <td>15.0</td>\n",
              "      <td>15.0</td>\n",
              "      <td>35.0</td>\n",
              "      <td>20.0</td>\n",
              "      <td>15.0</td>\n",
              "      <td>20.0</td>\n",
              "      <td>5.0</td>\n",
              "      <td>5.0</td>\n",
              "      <td>6.0</td>\n",
              "      <td>8.0</td>\n",
              "      <td>8.0</td>\n",
              "      <td>8.0</td>\n",
              "      <td>7.0</td>\n",
              "      <td>1</td>\n",
              "      <td>5.0</td>\n",
              "      <td>6.0</td>\n",
              "      <td>7.0</td>\n",
              "      <td>7.0</td>\n",
              "      <td>6.0</td>\n",
              "      <td>6.0</td>\n",
              "      <td>6.0</td>\n",
              "      <td>6.0</td>\n",
              "      <td>2.0</td>\n",
              "      <td>4.0</td>\n",
              "    </tr>\n",
              "  </tbody>\n",
              "</table>\n",
              "<p>5 rows × 85 columns</p>\n",
              "</div>"
            ],
            "text/plain": [
              "   iid   id  gender  wave  round  ...  shar  like  prob  met  match_es\n",
              "0    1  1.0       0     1     10  ...   5.0   7.0   6.0  2.0       4.0\n",
              "1    1  1.0       0     1     10  ...   6.0   7.0   5.0  1.0       4.0\n",
              "2    1  1.0       0     1     10  ...   7.0   7.0   NaN  1.0       4.0\n",
              "3    1  1.0       0     1     10  ...   8.0   7.0   6.0  2.0       4.0\n",
              "4    1  1.0       0     1     10  ...   6.0   6.0   6.0  2.0       4.0\n",
              "\n",
              "[5 rows x 85 columns]"
            ]
          },
          "metadata": {
            "tags": []
          },
          "execution_count": 29
        }
      ]
    },
    {
      "cell_type": "markdown",
      "metadata": {
        "id": "KFPWP8xHB8gd"
      },
      "source": [
        "## Data Preprocessing"
      ]
    },
    {
      "cell_type": "markdown",
      "metadata": {
        "id": "Yx9l9I-BO6kL"
      },
      "source": [
        "### Discarding Missing Values"
      ]
    },
    {
      "cell_type": "markdown",
      "metadata": {
        "id": "7J1hB365O_4a"
      },
      "source": [
        "#### Task 1: Missing Attribute Values\r\n",
        "\r\n",
        "As the dataset in this homework is mostly built with survey answers, some of the attributes contain missing values. Although we can deal with these attributes without discarding them, it may be more beneficial to drop the ones having a lot of `NaN` values in them.\r\n",
        "\r\n",
        "Your first task here is to display the attributes in which more than half of the instances are missing (i.e. `NaN`). Then drop these attributes from the dataframe."
      ]
    },
    {
      "cell_type": "code",
      "metadata": {
        "id": "mLviZRpRQTdN",
        "colab": {
          "base_uri": "https://localhost:8080/"
        },
        "outputId": "f4f6047d-256d-4cac-cc2d-203e554a66e8"
      },
      "source": [
        "#check each column's nan value and if it is greater than 4189, drop that column\r\n",
        "for col in df.columns:\r\n",
        "  if (df[col].isnull().sum() > len(df)/2):\r\n",
        "    print(\"Column {} has more than half of the instances(4189) are NaN\".format(col))\r\n",
        "    df = df.drop([col], axis=1)"
      ],
      "execution_count": 30,
      "outputs": [
        {
          "output_type": "stream",
          "text": [
            "Column mn_sat has more than half of the instances(4189) are NaN\n",
            "Column tuition has more than half of the instances(4189) are NaN\n",
            "Column expnum has more than half of the instances(4189) are NaN\n"
          ],
          "name": "stdout"
        }
      ]
    },
    {
      "cell_type": "markdown",
      "metadata": {
        "id": "z-hLj9PWPJcj"
      },
      "source": [
        "#### Task 2: Rows with Missing Values\r\n",
        "\r\n",
        "Some of the rows in the dataset also contain a lot of missing attribute values. In such occurrences, it probably means that the details about the particular speed date were not recorded properly. Because of this, we should discard rows where the majority of the values are missing.\r\n",
        "\r\n",
        "Your task is to discard rows in which the number of missing attribute values (`NaN` values) is more than half of the number of total attributes.\r\n",
        "\r\n",
        "*hint: You can also check the number of missing values in a row by using `df.isnull().sum()` by passing the correct `axis` parameter value to the sum function.*"
      ]
    },
    {
      "cell_type": "code",
      "metadata": {
        "id": "0sKacxbwF3E9"
      },
      "source": [
        "#create a temp array to store rows with greater NaN value count than threshold\r\n",
        "majornan_rows= (df.isnull().sum(axis = 1) > df.shape[1]/2)\r\n",
        "#drop all of the \"true\" (which means majority is NaN rather than non-NaN) rows\r\n",
        "for i in range(len(majornan_rows)):\r\n",
        "  if majornan_rows[i] == True:\r\n",
        "    df = df.drop([i])"
      ],
      "execution_count": 31,
      "outputs": []
    },
    {
      "cell_type": "markdown",
      "metadata": {
        "id": "_qQoqx12PTDV"
      },
      "source": [
        "### Fixing Attributes"
      ]
    },
    {
      "cell_type": "markdown",
      "metadata": {
        "id": "G1bTZcUpPVkq"
      },
      "source": [
        "#### Task 3: Fixing `date` and `go_out`\r\n",
        "\r\n",
        "If you check the `Speed Dating Data Key` file, you can see that entries in the `date` and `go_out` attributes are encoded as below.\r\n",
        "\r\n",
        "```\r\n",
        "date:\r\n",
        "In general, how frequently do you go on dates? \r\n",
        "\tSeveral times a week=1\r\n",
        "\tTwice a week=2\r\n",
        "\tOnce a week=3\r\n",
        "\tTwice a month=4\r\n",
        "\tOnce a month=5\r\n",
        "\tSeveral times a year=6\r\n",
        "\tAlmost never=7\r\n",
        "\r\n",
        "go_out:\r\n",
        "How often do you go out (not necessarily on dates)?\r\n",
        "\tSeveral times a week=1\r\n",
        "\tTwice a week=2\r\n",
        "\tOnce a week=3\r\n",
        "\tTwice a month=4\r\n",
        "\tOnce a month=5\r\n",
        "\tSeveral times a year=6\r\n",
        "\tAlmost never=7\r\n",
        "\r\n",
        "```\r\n",
        "\r\n",
        "Here, the maximum value 7 is used for describing answers with minimum values to these questions. Keeping these attributes as they are disrupting the ordinality built in these attributes. To obtain correct ordinality for `date` and `go_out` the minimum value for these attributes should be for `Almost never`.\r\n",
        "\r\n",
        "To fix this, your task is to convert the value `7` in these attributes to value `0`."
      ]
    },
    {
      "cell_type": "code",
      "metadata": {
        "id": "ZiVjcXY-Z966"
      },
      "source": [
        "#use replace method to fix ambiguity problem\r\n",
        "df['date'] = df['date'].replace(7,0)\r\n",
        "df['go_out'] = df['go_out'].replace(7,0)"
      ],
      "execution_count": 32,
      "outputs": []
    },
    {
      "cell_type": "markdown",
      "metadata": {
        "id": "ZpFgm7kkPeGJ"
      },
      "source": [
        "#### Task 4: Fixing `goal`\r\n",
        "\r\n",
        "When you check the `Speed Dating Data Key` file, you can see that entries in the `goal` attributes are encoded as below.\r\n",
        "\r\n",
        "```\r\n",
        "goal:\r\n",
        "What is your primary goal in participating in this event? \r\n",
        "\tSeemed like a fun night out=1\r\n",
        "\tTo meet new people=2\r\n",
        "\tTo get a date=3\r\n",
        "\tLooking for a serious relationship=4\r\n",
        "\tTo say I did it=5\r\n",
        "\tOther=6\r\n",
        "```\r\n",
        "\r\n",
        "Unlike the earlier two attributes, `date` and `go_out`, `goal` attribute does not look like it is an ordinal feature. Because of this, leaving values as is, ordered from 1 to 6, implies that there is a hierarchy between the values.\r\n",
        "\r\n",
        "To fix this, use one-hot-encoding to create one-hot features from the `goal` attribute. However, as `goal` attribute includes `NaN` values currently, we cannot directly use One-Hot-Encoding. We need to deal with the missing values first.\r\n",
        "\r\n",
        "Your Task:\r\n",
        "  - Fill the missing values with value `6` *(denotes to `other`)*\r\n",
        "  - Create one-hot features from `goal` attribute,\r\n",
        "  - Name these features `goal_fun, goal_meet, goal_date, goal_serious, goal_did, goal_other` respectively,\r\n",
        "  - Add these features to the dataframe,\r\n",
        "  - Lastly, discard the initial `goal` attribute."
      ]
    },
    {
      "cell_type": "code",
      "metadata": {
        "id": "scrWt2WqqHKI"
      },
      "source": [
        "from sklearn.preprocessing import OneHotEncoder\r\n",
        "df[\"goal\"] = df[\"goal\"].fillna(6)\r\n",
        "\r\n",
        "y = OneHotEncoder().fit_transform(df.goal.values.reshape(-1,1)).toarray()\r\n",
        "new_features = ['goal_fun', 'goal_meet', 'goal_date', 'goal_serious', 'goal_did', 'goal_other']\r\n",
        "for i in range(6):\r\n",
        "  df[new_features[i]] = y[:,i]\r\n",
        "\r\n",
        "df = df.drop(['goal'], axis=1)"
      ],
      "execution_count": 33,
      "outputs": []
    },
    {
      "cell_type": "markdown",
      "metadata": {
        "id": "Jc_VOWE3a0F1"
      },
      "source": [
        "#### Task 5: Rest of the `NaN` Values\r\n",
        "\r\n",
        "As most of the features in the dataset consist of numeric ordinal values, one solution for `NaN` values can be filling with the median values.\r\n",
        "\r\n",
        "- Check if there are `object` typed attributes in the dataset.\r\n",
        "- If possible, convert them to `float` type.\r\n",
        "- Then, discard columns with string values.\r\n",
        "- Lastly, fill the remaining missing values in the dataset with corresponding column median values.\r\n",
        "\r\n",
        "*hint: To get attributes with string values, you can check attributes which do not have the data type of `float64`.*\r\n",
        "\r\n",
        "*hint 2: You may not be able to convert `income` values to float directly. To be able do that, you can omit the `,` in the initial income values.*\r\n"
      ]
    },
    {
      "cell_type": "code",
      "metadata": {
        "id": "VSUP_ijB5Ssm"
      },
      "source": [
        "df = df.replace(',','', regex=True)\r\n",
        "for col in df.columns:\r\n",
        "  df[col] = df[col].apply(pd.to_numeric,errors='ignore')  #if possible convert them to float64\r\n",
        "\r\n",
        "for col in df.columns:\r\n",
        "  if (df[col].dtype == 'object'):   #if there is still unconverted columns\r\n",
        "    df = df.drop([col], axis=1)    #drop those columns\r\n",
        "  else:\r\n",
        "    df[col] = df[col].fillna(df[col].median())    #fill the NaN values with median"
      ],
      "execution_count": 34,
      "outputs": []
    },
    {
      "cell_type": "markdown",
      "metadata": {
        "id": "_hlaUWT95rHI"
      },
      "source": [
        "## Applying Random Forest"
      ]
    },
    {
      "cell_type": "markdown",
      "metadata": {
        "id": "F43TaFYNdZ3V"
      },
      "source": [
        "#### Task 1: Dropping Unnecessary Attributes\r\n",
        "\r\n",
        "Before moving on to applying machine learning, we need to discard features which do not yield any information about the problem we want to analyze with machine learning. As we want to predict the decision of the participant on dating, the attributes below are redundant.\r\n",
        "\r\n",
        "Discard the redundant attributes listed below from the dataframe.\r\n",
        "\r\n",
        "```\r\n",
        "iid, id, wave, round, position, order\r\n",
        "```"
      ]
    },
    {
      "cell_type": "code",
      "metadata": {
        "id": "ItOrd-YZ4_iW"
      },
      "source": [
        "#dropping the columns redundant\r\n",
        "df = df.drop(['iid', 'id', 'wave', 'round', 'position', 'order'], axis=1)"
      ],
      "execution_count": 35,
      "outputs": []
    },
    {
      "cell_type": "markdown",
      "metadata": {
        "id": "xYcXE8E4dZu0"
      },
      "source": [
        "#### Task 2: Initial Random Forest Model\r\n",
        "\r\n",
        "With the instructions below, build the initial Random Forest model.\r\n",
        "\r\n",
        "1. Split the dataset into 80% training, 10% validation and 10% test set with `random_state` parameter set to a value different than 0.\r\n",
        "2. Build a Random Forest model with `criterion` set to `entropy`.\r\n",
        "3. Train the model on the training set.\r\n",
        "4. Report the accuracy on the validation set.\r\n",
        "\r\n",
        "*Necessary import statements are given for you in the cell below.*"
      ]
    },
    {
      "cell_type": "code",
      "metadata": {
        "id": "0VGFEMV6yL-m"
      },
      "source": [
        "from sklearn.ensemble import RandomForestClassifier\r\n",
        "from sklearn.model_selection import train_test_split\r\n",
        "from sklearn.metrics import accuracy_score"
      ],
      "execution_count": 36,
      "outputs": []
    },
    {
      "cell_type": "code",
      "metadata": {
        "id": "p9QYw_umSGD-"
      },
      "source": [
        "#split the data that:\r\n",
        "X = df.drop(\"dec\",axis=1)   #features to be used in prediction\r\n",
        "y = df[\"dec\"] #feature to be predicted"
      ],
      "execution_count": 37,
      "outputs": []
    },
    {
      "cell_type": "code",
      "metadata": {
        "id": "7F6Q4rzyyDmp",
        "colab": {
          "base_uri": "https://localhost:8080/"
        },
        "outputId": "6ea89d71-36ff-4268-efe3-5207eada275f"
      },
      "source": [
        "# %80 to %20 split\r\n",
        "X_train, X_test_valid, y_train, y_test_valid = train_test_split(X, y, test_size=0.2,random_state=40)\r\n",
        "# %10 and %10 split\r\n",
        "X_test, X_valid, y_test, y_valid = train_test_split(X_test_valid, y_test_valid, test_size=0.5,random_state=40)\r\n",
        "\r\n",
        "#Random forest application\r\n",
        "model_rf = RandomForestClassifier(random_state=40, criterion='entropy')\r\n",
        "model_rf.fit(X_train, y_train,)\r\n",
        "\r\n",
        "#prediction accuracy rate\r\n",
        "rf_predictions = model_rf.predict(X_valid)\r\n",
        "rf_acc = accuracy_score(y_valid, rf_predictions)\r\n",
        "\r\n",
        "print(\"Random Forest Accuracy:\"+str(rf_acc))"
      ],
      "execution_count": 41,
      "outputs": [
        {
          "output_type": "stream",
          "text": [
            "Random Forest Accuracy:0.8361445783132531\n"
          ],
          "name": "stdout"
        }
      ]
    },
    {
      "cell_type": "markdown",
      "metadata": {
        "id": "s8xGkB3JdZha"
      },
      "source": [
        "#### Task 3: Feature Importances\r\n",
        "\r\n",
        "Importance of features from a Random Forest model can be checked after the training is complete. To do that, you can use the `feature_importances_` attribute of a Random Forest model instance.\r\n",
        "\r\n",
        "To analyze importances of different features in our dataset, plot the most important 25 features of the model you trained above in a horizontal bar chart. You can use the plot below for referencing.\r\n",
        "\r\n",
        "![](https://linkpicture.com/q/features.png)\r\n",
        "\r\n",
        "To achieve the colors of the plot, it was built with a certain colormap existing in matplotlib library. To obtain a colormap from matplotlib, you can use `cm.NameOfTheColorMap` and create a colormap instance. You can also pass a `np.linspace` as a parameter to a colormap, with the number of data instances you want to plot. This way, you can create a certain amount of colors to pass as a `color` parameter to the bar chart.\r\n",
        "\r\n",
        "*You can check available colormaps from the matplotlib [documentation link](https://matplotlib.org/3.3.3/tutorials/colors/colormaps.html).* \r\n",
        "\r\n",
        "*Necessary import statement is given for you in the cell below.*"
      ]
    },
    {
      "cell_type": "code",
      "metadata": {
        "id": "WUG7u47k8NIC",
        "colab": {
          "base_uri": "https://localhost:8080/",
          "height": 350
        },
        "outputId": "0299658c-0073-4451-deac-3783e68a2e45"
      },
      "source": [
        "from matplotlib import cm\r\n",
        "import matplotlib.colors as colors\r\n",
        "\r\n",
        "#match importance score with column names\r\n",
        "dict_importances = {}\r\n",
        "importances = model_rf.feature_importances_\r\n",
        "for i in range(len(importances)):\r\n",
        "  dict_importances[X.columns[i]] = importances[i]\r\n",
        "\r\n",
        "#sort the dictionary according to scores\r\n",
        "dict_importances = sorted(dict_importances.items(), key=lambda x: x[1])\r\n",
        "labels = [i for i,j in dict_importances]\r\n",
        "importances = [j for i,j in dict_importances]\r\n",
        "\r\n",
        "my_cmap = plt.get_cmap(\"Reds\")\r\n",
        "\r\n",
        "#plot the first 20 indices of dict's keys and values, with cmp 'Reds'\r\n",
        "fig, ax = plt.subplots(figsize=(10,5))\r\n",
        "ax.barh(labels[-20:], importances[-20:], color=my_cmap(np.linspace(0,1,len(importances[-20:]))))\r\n",
        "ax.grid(True)\r\n",
        "ax.set_title(\"Most Important 20 Features of the Initial Model\")\r\n",
        "ax.set_xlabel(\"Feature Importance\")\r\n",
        "plt.show()"
      ],
      "execution_count": 42,
      "outputs": [
        {
          "output_type": "display_data",
          "data": {
            "image/png": "[encoded data removed]",
            "text/plain": [
              "<Figure size 720x360 with 1 Axes>"
            ]
          },
          "metadata": {
            "tags": [],
            "needs_background": "light"
          }
        }
      ]
    },
    {
      "cell_type": "markdown",
      "metadata": {
        "id": "dZDJZee15v1s"
      },
      "source": [
        "## Grid Search\r\n",
        "\r\n",
        "Grid search is one of the existing approaches to hyperparameter tuning for machine learning models. With Grid Search, we methodically build and evaluate a model for each combination of parameter space specified in a grid. This allows us to obtain the best performing hyperparameter options for the model we want to use.\r\n",
        "\r\n",
        "sklearn library does have an implementation of Grid Search method available for all of its model. You can check the Grid Search from the sklearn [documentation link](https://scikit-learn.org/stable/modules/generated/sklearn.model_selection.GridSearchCV.html)."
      ]
    },
    {
      "cell_type": "markdown",
      "metadata": {
        "id": "_fT7NnFg70du"
      },
      "source": [
        "### Task 1: Selecting Optimum Parameters\r\n",
        "\r\n",
        "Apply Grid Search for the initial Random Forest model with the given parameter space below.\r\n",
        "\r\n",
        "```\r\n",
        "n_estimators: 100, 200, 300\r\n",
        "min_samples_split: 2, 4\r\n",
        "```\r\n",
        "\r\n",
        "- Train Random Forest instances with the given parameter space using GridSearchCV,\r\n",
        "- Show the hyperparameters best performing model on the training set using `best_params_` attribute,\r\n",
        "- Predict validation instances with best performing hyperparameters,\r\n",
        "- Compare the accuracy score you obtained here with the accuracy score of the initial model.\r\n",
        "- Use the markdown cell for your comments.\r\n",
        "\r\n",
        "*hint: If you use `grid_search_object.predict()` it uses the model instance which performs best on the training set.*\r\n",
        "\r\n",
        "*Necessary import statement is given for you in the cell below.*"
      ]
    },
    {
      "cell_type": "code",
      "metadata": {
        "id": "wE4eKk0VyZoR"
      },
      "source": [
        "from sklearn.model_selection import GridSearchCV"
      ],
      "execution_count": 43,
      "outputs": []
    },
    {
      "cell_type": "code",
      "metadata": {
        "id": "SfR02zDTeLuh",
        "colab": {
          "base_uri": "https://localhost:8080/"
        },
        "outputId": "03fb3920-02d8-4063-fd61-579f803acde1"
      },
      "source": [
        "#parameters to be compared\r\n",
        "param_grid = {\"n_estimators\":[100, 200, 300], \"min_samples_split\":[2, 4]}\r\n",
        "\r\n",
        "rf_grid = GridSearchCV(estimator = model_rf, param_grid = param_grid)\r\n",
        "rf_grid.fit(X_train, y_train)"
      ],
      "execution_count": 44,
      "outputs": [
        {
          "output_type": "execute_result",
          "data": {
            "text/plain": [
              "GridSearchCV(cv=None, error_score=nan,\n",
              "             estimator=RandomForestClassifier(bootstrap=True, ccp_alpha=0.0,\n",
              "                                              class_weight=None,\n",
              "                                              criterion='entropy',\n",
              "                                              max_depth=None,\n",
              "                                              max_features='auto',\n",
              "                                              max_leaf_nodes=None,\n",
              "                                              max_samples=None,\n",
              "                                              min_impurity_decrease=0.0,\n",
              "                                              min_impurity_split=None,\n",
              "                                              min_samples_leaf=1,\n",
              "                                              min_samples_split=2,\n",
              "                                              min_weight_fraction_leaf=0.0,\n",
              "                                              n_estimators=100, n_jobs=None,\n",
              "                                              oob_score=False, random_state=40,\n",
              "                                              verbose=0, warm_start=False),\n",
              "             iid='deprecated', n_jobs=None,\n",
              "             param_grid={'min_samples_split': [2, 4],\n",
              "                         'n_estimators': [100, 200, 300]},\n",
              "             pre_dispatch='2*n_jobs', refit=True, return_train_score=False,\n",
              "             scoring=None, verbose=0)"
            ]
          },
          "metadata": {
            "tags": []
          },
          "execution_count": 44
        }
      ]
    },
    {
      "cell_type": "markdown",
      "metadata": {
        "id": "b2LWRRLZGF6p"
      },
      "source": [
        "With given parameters, accuracy score was: 0.8361445783132531.\r\n",
        "\r\n",
        "It increases to 0.8493975903614458 with using gridsearch cross validation.\r\n",
        "\r\n",
        "The increase is slight, so the parameters that given at first place was already good enough."
      ]
    },
    {
      "cell_type": "code",
      "metadata": {
        "colab": {
          "base_uri": "https://localhost:8080/"
        },
        "id": "F8kSSxObES85",
        "outputId": "191bfa1c-cc6a-4f6b-986b-91c7077b6a14"
      },
      "source": [
        "# Displaying best hyperparameters\r\n",
        "rf_grid.best_params_"
      ],
      "execution_count": 45,
      "outputs": [
        {
          "output_type": "execute_result",
          "data": {
            "text/plain": [
              "{'min_samples_split': 2, 'n_estimators': 300}"
            ]
          },
          "metadata": {
            "tags": []
          },
          "execution_count": 45
        }
      ]
    },
    {
      "cell_type": "code",
      "metadata": {
        "colab": {
          "base_uri": "https://localhost:8080/"
        },
        "id": "WREMQGMJEb7W",
        "outputId": "959c8175-ad9c-432d-e9fb-4dc4987442e3"
      },
      "source": [
        "# Accuracy score with new hyperparameters\r\n",
        "grid_preds = rf_grid.predict(X_valid)\r\n",
        "accuracy_score(y_valid, grid_preds)"
      ],
      "execution_count": 46,
      "outputs": [
        {
          "output_type": "execute_result",
          "data": {
            "text/plain": [
              "0.8493975903614458"
            ]
          },
          "metadata": {
            "tags": []
          },
          "execution_count": 46
        }
      ]
    },
    {
      "cell_type": "markdown",
      "metadata": {
        "id": "Nw2uBXlt74sc"
      },
      "source": [
        "### Task 2: Confusion Matrix\r\n",
        "\r\n",
        "By using the best performing hyper-parameters from the earlier task, Check the accuracy score of the model on the test set. Lastly, evaluate the performance of the model on the test set by checking the confusion matrix. Use the cell given to you below for your evaluation.\r\n",
        "\r\n",
        "*Necessary import statement is given for you in the cell below.*"
      ]
    },
    {
      "cell_type": "code",
      "metadata": {
        "id": "Fq4HnvgpGfEg"
      },
      "source": [
        "from sklearn.metrics import confusion_matrix"
      ],
      "execution_count": 47,
      "outputs": []
    },
    {
      "cell_type": "code",
      "metadata": {
        "id": "9UqqxgNw79SH",
        "colab": {
          "base_uri": "https://localhost:8080/"
        },
        "outputId": "c31a675d-5479-48d7-87ae-249f21574848"
      },
      "source": [
        "mat = confusion_matrix(y_test, grid_preds)\r\n",
        "print(mat)"
      ],
      "execution_count": 53,
      "outputs": [
        {
          "output_type": "stream",
          "text": [
            "[[308 205]\n",
            " [191 126]]\n"
          ],
          "name": "stdout"
        }
      ]
    },
    {
      "cell_type": "markdown",
      "metadata": {
        "id": "xiXTxiqGGS9R"
      },
      "source": [
        "True predictions are: 308 (0/0) and 126 (1/1)\r\n",
        "\r\n",
        "False ones are: 205 (Guessing 1, but actually 0) and 191 (Guessing 0 for 1) \r\n",
        "\r\n",
        "Therefore in total: (308+126)\\(308+126+205+191) ~= 0.52\r\n",
        "\r\n",
        "Success of 0's: 308/308+205 ~= 0.60\r\n",
        "\r\n",
        "Success of 1's: 126/126+191 ~= 0.397\r\n",
        "\r\n",
        "It can be concluded that predicting 0's are more accomplished than predicting 1's by this random forest model. Also, total ratio is close to %50 and there is only two option. Therefore, model should be developed further in order to obtain more accomplished prediction"
      ]
    }
  ]
}