{
  "nbformat": 4,
  "nbformat_minor": 0,
  "metadata": {
    "kernelspec": {
      "display_name": "Python 3",
      "language": "python",
      "name": "python3"
    },
    "language_info": {
      "codemirror_mode": {
        "name": "ipython",
        "version": 3
      },
      "file_extension": ".py",
      "mimetype": "text/x-python",
      "name": "python",
      "nbconvert_exporter": "python",
      "pygments_lexer": "ipython3",
      "version": "3.6.7"
    },
    "colab": {
      "name": "Turgut_Tahir_hw2.ipynb",
      "provenance": [],
      "collapsed_sections": []
    }
  },
  "cells": [
    {
      "cell_type": "markdown",
      "metadata": {
        "id": "ldMgDPWh6KZJ"
      },
      "source": [
        "#Homework 2: Drug Side Effects\n",
        "\n",
        "*In the second homework, you are going to work with SIDER side effects dataset.*\n",
        "\n",
        "**Submission Instructions**\n",
        "\n",
        "---\n",
        "It is important that you follow the submission instructions. \n",
        "1. Copy this assignment notebook to your Drive. <font color = 'red'> `File` --> `Save a copy in Drive`</font>. Rename it as <font color = 'green'>`Lastname_Firstname_hw1`</font>.\n",
        "\n",
        "2. Write your solutions in the cells  marked <font color = 'green'>`# your code`</font>.\n",
        "\n",
        "3. Do not delete your outputs. They are essential for the grading. Make sure that cells containing your solutions are executed, and the results are displayed on the notebook.\n",
        "\n",
        "4. When you're done please submit your solutions as an <font color=\"red\">`.ipynb`</font> file. To do so:\n",
        "\n",
        "\n",
        "1.  Click on <font color=\"red\">`File`</font>  at the top left on the Colab screen, then click on <font color = 'red'>`Download .ipynb`</font>.\n",
        "2.   Then submit the downloaded <font color=\"red\">`.ipynb`</font> version of your work on SUCourse.\n",
        "\n",
        "\n",
        "For any question, you may send an email to the TAs and LAs.\n",
        "\n",
        "---"
      ]
    },
    {
      "cell_type": "markdown",
      "metadata": {
        "id": "pSp2PnhBSssR"
      },
      "source": [
        "In this homework, you will work on a dataset from [SIDER Side Effect Resource](http://sideeffects.embl.de/). SIDER contains information on marketed drugs and their recorded adverse drug reactions (ADR).\n",
        "\n",
        "For this homework, you will use the provided file `meddra_all_se.csv`. This is a modified and simplified version of the original dataset, which contains possible side effects of different drugs.\n",
        "<!-- This is not the original data file, we modified and eliminated some parts to make your work easier. -->\n",
        "\n",
        "As listed in their prospectives, drugs can cause some side effects besides their healing properties. This dataset simply contains entries of drugs and their potential side effects.\n",
        "\n",
        "In the dataset, each row has 4 attribute values separated with `,`. These attributes are described in the list below with their respective order in the dataset.\n",
        "\n",
        "\n",
        "  1.   **STITCH compound id:** Refers to ID of a particular drug \n",
        "\n",
        "  2.   **UMLS concept id:** Unified Medical Language System ID\n",
        "\n",
        "  3.   **UMLS concept id for MedDRA term** \n",
        "\n",
        "  4.   **Side effect name:** Contains the possible side effect entry.\n",
        "\n",
        "**You will consider the STITCH compound id as the id of a particular drug. Therefore, rows with the same STITCH compound id refer to possible side effects of the same particular drug.**\n",
        "\n",
        "A snapshot from the dataset containing three sample rows is also provided below.\n",
        "```\n",
        "...\n",
        "CID100000085,CID000010917,C0015230,Rash\n",
        "CID100000085,CID000010917,C0015397,Eye disorder\n",
        "CID100000085,CID000010917,C0015967,Body temperature increased\n",
        "\n",
        "...\n",
        "```\n",
        "\n",
        "*Do not forget to add the shared `meddra_all_se.csv` file to your drive and mount to your drive. Otherwise, you won't be able to read the file.*\n",
        "\n",
        "**!!!You are not allowed to use `pandas` in this homework**"
      ]
    },
    {
      "cell_type": "code",
      "metadata": {
        "id": "NQS682uLXZWr"
      },
      "source": [
        "import numpy as np\n",
        "import matplotlib.pyplot as plt\n",
        "from os.path import join\n",
        "\n",
        "%matplotlib inline"
      ],
      "execution_count": 4,
      "outputs": []
    },
    {
      "cell_type": "code",
      "metadata": {
        "id": "8VzWuGps4xl_",
        "outputId": "169e1ddd-ac80-4928-bc76-9097faf12d3d",
        "colab": {
          "base_uri": "https://localhost:8080/"
        }
      },
      "source": [
        "from google.colab import drive\n",
        "drive.mount('./drive', force_remount=True)\n",
        "\n",
        "path_prefix = \"./drive/My Drive\""
      ],
      "execution_count": 5,
      "outputs": [
        {
          "output_type": "stream",
          "text": [
            "Mounted at ./drive\n"
          ],
          "name": "stdout"
        }
      ]
    },
    {
      "cell_type": "markdown",
      "metadata": {
        "id": "K6GWzFj_rQ5J"
      },
      "source": [
        "## Q1: Descriptive Statistics of the Dataset\n",
        "\n",
        "In this question, your task is to gather some descriptive information about the dataset. To do this, first read the provided dataset and store it in a 2 dimensional numpy array. Then, print the listed descriptive statistics about the dataset.\n",
        "\n",
        "*   Shape of the dataset, i.e. number of rows and columns\n",
        "*   Number of unique drugs \n",
        "*   Number of unique side effects"
      ]
    },
    {
      "cell_type": "code",
      "metadata": {
        "id": "Xgw56FXMEpji",
        "outputId": "80205879-69e6-4524-d3f8-037c1e43be2b",
        "colab": {
          "base_uri": "https://localhost:8080/"
        }
      },
      "source": [
        "meddra_csv = open(\"/content/drive/My Drive/meddra_all_se.csv\")\n",
        "arr = []\n",
        "#create an 2D array which consist list of every line's word\n",
        "for line in meddra_csv:\n",
        "  arr.append(line.split(\",\"))\n",
        "\n",
        "#create an numpy array based on that 2D array\n",
        "ndarray = np.array(arr)\n",
        "\n",
        "#numpy.shape() to express row and column number of numpy matrix\n",
        "#whereas using set() function to get unique ones\n",
        "print(\"Number of rows: {}\".format(np.shape(ndarray)[0]))\n",
        "print(\"Number of columns: {}\".format(np.shape(ndarray)[1]))\n",
        "print(\"Number of unique drugs: {}\".format(len(set(ndarray[:,0]))))\n",
        "print(\"Number of unique side effects: {}\".format(len(set(ndarray[:,3]))))"
      ],
      "execution_count": 8,
      "outputs": [
        {
          "output_type": "stream",
          "text": [
            "Number of rows: 91281\n",
            "Number of columns: 4\n",
            "Number of unique drugs: 953\n",
            "Number of unique side effects: 5064\n"
          ],
          "name": "stdout"
        }
      ]
    },
    {
      "cell_type": "markdown",
      "metadata": {
        "id": "QaM_N7VbvjNd"
      },
      "source": [
        "## Q2: Side Effects of Drugs"
      ]
    },
    {
      "cell_type": "markdown",
      "metadata": {
        "id": "rDTZdak-vBEF"
      },
      "source": [
        "### Part A \n",
        "\n",
        "As explained above, side effect entries in the dataset correspond to possible side effects of different drugs.\n",
        "\n",
        "In this part, your goal is to find the drug which has the most side effects in the dataset. <!-- Print the `drug id` *(STITCH compound id)* of that drug and `number of its indications`. --> Print the `drug id` *(STITCH compound id)* of that drug and print the number of possible side effects (indications) it has.\n",
        "\n",
        "Print your results in the following format.\n",
        "\n",
        "``` py\n",
        "drug id: CID100002771\n",
        "number of side effects: 766\n",
        "```\n",
        "\n",
        "\n"
      ]
    },
    {
      "cell_type": "code",
      "metadata": {
        "id": "HgNzsbgMvT_l",
        "outputId": "793d4a0a-47b1-4a67-dea4-2e29f8daae80",
        "colab": {
          "base_uri": "https://localhost:8080/"
        }
      },
      "source": [
        "meddra_csv = open(\"/content/drive/My Drive/meddra_all_se.csv\")\n",
        "arr = []\n",
        "for line in meddra_csv:\n",
        "  arr.append(line.split(\",\"))\n",
        "\n",
        "ndarray = np.array(arr)\n",
        "\n",
        "#numpy.unique() function returns set of specified array\n",
        "#return_counts defines whether frequency of those unique ids to be returned or not\n",
        "unique_drugs, frequency = np.unique(ndarray[:,0], return_counts=True)\n",
        "\n",
        "#determine the maximum of frequency array and it's index in the set of drug id's\n",
        "index = frequency.argmax()\n",
        "\n",
        "print(\"drug id: {}\\nnumber of side effects: {}\".format(unique_drugs[index], frequency[index]))"
      ],
      "execution_count": 13,
      "outputs": [
        {
          "output_type": "stream",
          "text": [
            "drug id: CID100002771\n",
            "number of side effects: 766\n"
          ],
          "name": "stdout"
        }
      ]
    },
    {
      "cell_type": "markdown",
      "metadata": {
        "id": "QB1vuzhZp1xt"
      },
      "source": [
        "### Part B \n",
        "\n",
        "Now, find the number of side effects for all drugs and display its distribution as an histogram.\n",
        "\n",
        "An exemplary figure can be observed below.\n",
        "\n",
        "![](https://i.ibb.co/7zPSnkR/hist.jpg)\n",
        "\n"
      ]
    },
    {
      "cell_type": "code",
      "metadata": {
        "id": "gByAdVaJvUz8",
        "outputId": "2a2577a5-6c0a-43f8-b834-0287a3c5ca8f",
        "colab": {
          "base_uri": "https://localhost:8080/",
          "height": 281
        }
      },
      "source": [
        "meddra_csv = open(\"/content/drive/My Drive/meddra_all_se.csv\")\n",
        "arr = []\n",
        "for line in meddra_csv:\n",
        "  arr.append(line.split(\",\"))\n",
        "\n",
        "ndarray = np.array(arr)\n",
        "\n",
        "unique_drugs, frequency = np.unique(ndarray[:,0], return_counts=True)\n",
        "\n",
        "#use the mathplotlib library to express values of \"frequency\" array\n",
        "plt.hist(frequency, bins = 23) \n",
        "plt.title(\"The Number of Side Effects per Drug\") \n",
        "plt.show()"
      ],
      "execution_count": 14,
      "outputs": [
        {
          "output_type": "display_data",
          "data": {
            "image/png": "[encoded data removed]",
            "text/plain": [
              "<Figure size 432x288 with 1 Axes>"
            ]
          },
          "metadata": {
            "tags": [],
            "needs_background": "light"
          }
        }
      ]
    },
    {
      "cell_type": "markdown",
      "metadata": {
        "id": "0M6JfX5cp7Zv"
      },
      "source": [
        "## Q3: The Most Frequent Side Effects\n",
        "\n",
        "Here, you are going to analyze side effects that can be more commonly caused by drugs. \n",
        "\n",
        "Since we have a dataset of drugs and their potential side effects, one of the first question that comes to mind is to see the most common side effects of these drugs.\n",
        "\n",
        "*   Plot a `bar chart` to show most frequent 15 side effects of the dataset.\n",
        "\n",
        "![](https://i.ibb.co/Y8nQr3p/barh.jpg)\n",
        "\n",
        "*You can choose to make the bar chart with a different style, but the bars should look like the chart above.* \n"
      ]
    },
    {
      "cell_type": "code",
      "metadata": {
        "id": "prRpUH5bgSNi",
        "outputId": "a3d01eb0-63de-491f-cdc6-01222d916717",
        "colab": {
          "base_uri": "https://localhost:8080/",
          "height": 295
        }
      },
      "source": [
        "meddra_csv = open(\"/content/drive/My Drive/meddra_all_se.csv\")\n",
        "arr = []\n",
        "for line in meddra_csv:\n",
        "  arr.append(line.split(\",\"))\n",
        "\n",
        "ndarray = np.array(arr)\n",
        "\n",
        "unique_side_effects, frequency = np.unique(ndarray[:,3], return_counts=True)\n",
        "\n",
        "#numpy.argsort returns the indices list (in a sorted way) to make list sorted\n",
        "indices = np.argsort(frequency)\n",
        "#get the last 15 indices starting from the end\n",
        "indices = indices[:-16:-1]\n",
        "#use those indices to select which unique side effects are to be printed\n",
        "\n",
        "#use barh function to print a matrix in a horizontal way\n",
        "plt.barh(unique_side_effects[indices], frequency[indices], color = 'green') \n",
        "\n",
        "#determine labels name accordingly\n",
        "plt.xlabel(\"Frequency\") \n",
        "plt.ylabel(\"Side Effects\") \n",
        "plt.title(\"Top 15 Most Frequent Side Effects\") \n",
        "plt.show() "
      ],
      "execution_count": 15,
      "outputs": [
        {
          "output_type": "display_data",
          "data": {
            "image/png": "[encoded data removed]",
            "text/plain": [
              "<Figure size 432x288 with 1 Axes>"
            ]
          },
          "metadata": {
            "tags": [],
            "needs_background": "light"
          }
        }
      ]
    },
    {
      "cell_type": "markdown",
      "metadata": {
        "id": "cpic0BLlp95Z"
      },
      "source": [
        "## Q4: Conditional Probability\n",
        "\n",
        "In Probability Theory, conditional probability is a measure of the probability of an event occurring, given that another event has already occurred. The formula for the conditional probability is shared below.\n",
        "\n",
        "```\n",
        "P(B|A) = P(A and B) / P(A)\n",
        "```\n",
        "\n",
        "As also suggested by our dataset, drugs can have multiple side effects. With the conditional probability, we can study the chances of a particular side effect with a given presence of another one.\n",
        "\n",
        "So, the following question can be answered with our dataset. \n",
        "\n",
        "**If a drug has `Headache` side effect, what is the probability it also has `Vomiting` side effect?**\n",
        "\n",
        "Please calculate this conditional probability from the dataset and report the resulting probability score."
      ]
    },
    {
      "cell_type": "code",
      "metadata": {
        "id": "a26lkrlt27qr",
        "outputId": "01b27a69-bf47-4fde-dfb5-2c64e2c81e5c",
        "colab": {
          "base_uri": "https://localhost:8080/"
        }
      },
      "source": [
        "#function to return probability of \"b\" side effect's existance, in a drug that \n",
        "#given \"a\" side effect already exist\n",
        "def conditionalProb(a, b):\n",
        "  meddra_csv = open(\"/content/drive/My Drive/meddra_all_se.csv\")\n",
        "  arr = []\n",
        "  count = 0\n",
        "  for line in meddra_csv:\n",
        "    arr.append(line.split(\",\"))\n",
        "\n",
        "  ndarray = np.array(arr)\n",
        "\n",
        "  #numpy where function returns the indices of the elements which is a+\"\\n\"\n",
        "  indices = np.where(ndarray[:,3] == a+\"\\n\")\n",
        "  #the lines that has \"a\" side effect has given with those indices\n",
        "  a_drugids = ndarray[:,0][indices]\n",
        "\n",
        "  #for loop to search whether drugs with \"a\", also contains \"b\" side effect\n",
        "  for drugid in a_drugids:\n",
        "    #indices of drugs with \"a\" side effect, in the drug list, since there is \n",
        "    #more than one line with same drug id\n",
        "    temp_indices = np.where(ndarray[:,0] == drugid)\n",
        "    for row in ndarray[temp_indices]:\n",
        "      #if those drug's side effect is \"b\", increment the count by 1\n",
        "      if row[3] == b+\"\\n\":\n",
        "        count += 1\n",
        "\n",
        "  #count is P(A n B), where a_drugids represent P(A)\n",
        "  print(count/len(a_drugids))\n",
        "\n",
        "#implementation of function with given example\n",
        "conditionalProb(\"Headache\", \"Vomiting\")"
      ],
      "execution_count": 16,
      "outputs": [
        {
          "output_type": "stream",
          "text": [
            "0.8398914518317503\n"
          ],
          "name": "stdout"
        }
      ]
    }
  ]
}