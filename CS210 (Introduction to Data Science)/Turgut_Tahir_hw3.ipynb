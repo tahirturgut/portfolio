{
  "nbformat": 4,
  "nbformat_minor": 0,
  "metadata": {
    "colab": {
      "name": "Turgut_Tahir_hw3.ipynb",
      "provenance": [],
      "collapsed_sections": []
    },
    "kernelspec": {
      "name": "python3",
      "display_name": "Python 3"
    }
  },
  "cells": [
    {
      "cell_type": "markdown",
      "metadata": {
        "id": "YohSkewix2HX"
      },
      "source": [
        "# Homework 3: Exploratory Data Analysis\n",
        "\n",
        "*In this homework, you are going to perform exploratory data analysis (EDA) on a dataset compiled by a research group from Harvard University.*\n",
        "\n",
        "**Submission Instructions**\n",
        "\n",
        "---\n",
        "It is important that you follow the submission instructions. \n",
        "1. Copy this assignment notebook to your Drive. <font color = 'red'> `File` --> `Save a copy in Drive`</font>. Rename it as <font color = 'green'>`Lastname_Firstname_hw3`</font>.\n",
        "\n",
        "2. Write your solutions in the cells  marked <font color = 'green'>`# your code`</font>.\n",
        "\n",
        "3. **Do not delete your outputs. They are essential for the grading. Make sure that cells containing your solutions are executed, and the results are displayed on the notebook.**\n",
        "\n",
        "4. When you're done please submit your solutions as an <font color=\"red\">`.ipynb`</font> file. To do so:\n",
        "\n",
        "  - Click on <font color=\"red\">`File`</font>  at the top left on the Colab screen, then click on <font color = 'red'>`Download .ipynb`</font>.\n",
        "  - Then submit the downloaded <font color=\"red\">`.ipynb`</font> version of your work on SUCourse.\n",
        "\n",
        "\n",
        "For any question, you may send an email to your TAs and LAs.\n",
        "\n",
        "---\n",
        "\n"
      ]
    },
    {
      "cell_type": "markdown",
      "metadata": {
        "id": "IRa9WpBUyaFK"
      },
      "source": [
        "## Income Segregation by Education Level\n",
        "\n",
        "In 2017, Chetty et al. compiled an anonymous data from USA Federal Government, in which they recorded the earnings of students born between 1980 and 1990 in their thirties. In addition, they recorded the earnings of their parents as well. In their study, they analyze the future financial status of students coming from different parental income levels and display how colleges help students progress.\n",
        "\n",
        "More information and the paper itself can be obtained from here: https://opportunityinsights.org/paper/undermatching/\n",
        "\n",
        "In this homework, you are going to analyze the dataset compiled in this study, `mrc_table3.csv`. In addition to the dataset, we also shared a PDF document, named `Codebook-MRC-Table-3.pdf`, prepared by the research team as the data dictionary that displays the columns and their explanations.\n",
        "\n",
        "The dataset is indexed by `cohorts`. In this context, a cohort is a group of students of the same age and college. In the image below a snippet from the dataset can be observed. Although `cohort` is a column name for the students' age; the actual cohort can be conceptualized as of age + college. For instance, the first row in the image below captures the attributes of the students born in 1980 and attended Brown University.\n",
        "\n",
        "![](https://i.ibb.co/cbvSpL5/gg.png)\n",
        "\n",
        "As stated above, the dataset stores the estimated financial status of the students in their 30s and their parents. In addition to storing mean income values to represent financial status, such as `par_mean` and `k_mean`, the researchers also provide a set of attributes to capture the relative information. To this end, they utilize *quintiles* and *percentiles* to represent fractions of the cohort.\n",
        "\n",
        "Below, you may find some of the column patterns that utilize quintiles and percentiles, along with their explanations.\n",
        "\n",
        "- **par_q[PARQUINT]**: Fraction of parents in income quintile [PARQUINT]. 1 is the bottom quintile and 5 is the top.\n",
        "  - Remember that each row stores the financial status of that cohort's students and their families financial attributes. The value in this attribute captures the fraction of parents that reside in the [PARQUINT] quintile. \n",
        "  - Since, with quintiles we basically divide the data into 5 different regions, [PARQUINT] can take values between 1 and 5. \n",
        "    - 1 -> bottom quintile, in other words, lowest income level\n",
        "    - 5 -> top quintile, or the highest income level\n",
        "  - *So, there are five columns that store the fraction of parents in that quintile, e.g. `par_q5` stores the percentage of the parents that are in the top quintile.*\n",
        "\n",
        "- **k_top[PCTILE]pc**: Fraction of students in the top [PCTILE] percentile. For instance, `top1pc` refers to children in the top 1% of the income\n",
        "distribution. \n",
        "  - The columns that contains the [PCTILE] tag captures the fractions with respect to `percentiles`.\n",
        "  - As stated in the these attributes store the percentage of students that reside in the top [PCTILE]% of the income.\n",
        "    - *e.g. If `k_top1pc` is set to 0.56, then we can conclude that 56% of the students in that cohort are in the top 1% of the income distribution in their 30s.*\n",
        "\n",
        "And lastly, the researchers provide conditional probabilities as a financial projection for the students.\n",
        "\n",
        "- **ktop1pc_cond_parq[PARQUINT]**: Probability of student in top 1%, conditional on parent in quintile [PARQUINT].\n",
        "  - *e.g. ktop1pc_cond_parq1 stores the probability of a student being in the top 1% income level given that his/her parents were in the bottom quintile.*\n",
        "\n",
        "- **kq[KIDQUINT]_cond_parq[PARQUINT]**: Probability of kid in quintile [KIDQUINT], conditional on parent in quintile [PARQUINT].\n",
        "  - *e.g. kq5_cond_parq1 stores the probability of a student being in the top income quintile given that his/her parents were in the bottom quintile.*\n",
        "\n",
        "*p.s. In this notebook, the terms `students`, `child` and `children` are used interchangeably. Each usage refers to a cohort.* \n",
        "\n",
        "\n",
        "\n"
      ]
    },
    {
      "cell_type": "code",
      "metadata": {
        "colab": {
          "base_uri": "https://localhost:8080/"
        },
        "id": "2ChTXnRVx8v4",
        "outputId": "fd507dea-6715-443d-b37d-bf6418298892"
      },
      "source": [
        "from google.colab import drive\n",
        "drive.mount(\"./drive\")\n",
        "\n",
        "path_prefix = \"./drive/My Drive\""
      ],
      "execution_count": 66,
      "outputs": [
        {
          "output_type": "stream",
          "text": [
            "Drive already mounted at ./drive; to attempt to forcibly remount, call drive.mount(\"./drive\", force_remount=True).\n"
          ],
          "name": "stdout"
        }
      ]
    },
    {
      "cell_type": "code",
      "metadata": {
        "id": "6h1nTH78yIvc"
      },
      "source": [
        "import pandas as pd\n",
        "import numpy as np\n",
        "import matplotlib.pyplot as plt\n",
        "from os.path import join\n",
        "\n",
        "%matplotlib inline"
      ],
      "execution_count": 67,
      "outputs": []
    },
    {
      "cell_type": "code",
      "metadata": {
        "colab": {
          "base_uri": "https://localhost:8080/",
          "height": 290
        },
        "id": "x3F7ycZnyY1-",
        "outputId": "ee0f6a43-b659-4ac3-b07e-60157336ff41"
      },
      "source": [
        "fname = \"mrc_table3.csv\"\n",
        "df = pd.read_csv(join(path_prefix, fname))\n",
        "df.head(2)"
      ],
      "execution_count": 68,
      "outputs": [
        {
          "output_type": "execute_result",
          "data": {
            "text/html": [
              "<div>\n",
              "<style scoped>\n",
              "    .dataframe tbody tr th:only-of-type {\n",
              "        vertical-align: middle;\n",
              "    }\n",
              "\n",
              "    .dataframe tbody tr th {\n",
              "        vertical-align: top;\n",
              "    }\n",
              "\n",
              "    .dataframe thead th {\n",
              "        text-align: right;\n",
              "    }\n",
              "</style>\n",
              "<table border=\"1\" class=\"dataframe\">\n",
              "  <thead>\n",
              "    <tr style=\"text-align: right;\">\n",
              "      <th></th>\n",
              "      <th>super_opeid</th>\n",
              "      <th>cohort</th>\n",
              "      <th>name</th>\n",
              "      <th>type</th>\n",
              "      <th>tier</th>\n",
              "      <th>tier_name</th>\n",
              "      <th>iclevel</th>\n",
              "      <th>region</th>\n",
              "      <th>state</th>\n",
              "      <th>cz</th>\n",
              "      <th>czname</th>\n",
              "      <th>cfips</th>\n",
              "      <th>county</th>\n",
              "      <th>multi</th>\n",
              "      <th>count</th>\n",
              "      <th>female</th>\n",
              "      <th>k_married</th>\n",
              "      <th>par_mean</th>\n",
              "      <th>par_median</th>\n",
              "      <th>par_rank</th>\n",
              "      <th>par_q1</th>\n",
              "      <th>par_q2</th>\n",
              "      <th>par_q3</th>\n",
              "      <th>par_q4</th>\n",
              "      <th>par_q5</th>\n",
              "      <th>par_top10pc</th>\n",
              "      <th>par_top5pc</th>\n",
              "      <th>par_top1pc</th>\n",
              "      <th>par_toppt1pc</th>\n",
              "      <th>k_rank</th>\n",
              "      <th>k_mean</th>\n",
              "      <th>k_median</th>\n",
              "      <th>k_median_nozero</th>\n",
              "      <th>k_0inc</th>\n",
              "      <th>k_q1</th>\n",
              "      <th>k_q2</th>\n",
              "      <th>k_q3</th>\n",
              "      <th>k_q4</th>\n",
              "      <th>k_q5</th>\n",
              "      <th>k_top10pc</th>\n",
              "      <th>...</th>\n",
              "      <th>k_rank_cond_parq1</th>\n",
              "      <th>k_rank_cond_parq2</th>\n",
              "      <th>k_rank_cond_parq3</th>\n",
              "      <th>k_rank_cond_parq4</th>\n",
              "      <th>k_rank_cond_parq5</th>\n",
              "      <th>kq1_cond_parq1</th>\n",
              "      <th>kq2_cond_parq1</th>\n",
              "      <th>kq3_cond_parq1</th>\n",
              "      <th>kq4_cond_parq1</th>\n",
              "      <th>kq5_cond_parq1</th>\n",
              "      <th>kq1_cond_parq2</th>\n",
              "      <th>kq2_cond_parq2</th>\n",
              "      <th>kq3_cond_parq2</th>\n",
              "      <th>kq4_cond_parq2</th>\n",
              "      <th>kq5_cond_parq2</th>\n",
              "      <th>kq1_cond_parq3</th>\n",
              "      <th>kq2_cond_parq3</th>\n",
              "      <th>kq3_cond_parq3</th>\n",
              "      <th>kq4_cond_parq3</th>\n",
              "      <th>kq5_cond_parq3</th>\n",
              "      <th>kq1_cond_parq4</th>\n",
              "      <th>kq2_cond_parq4</th>\n",
              "      <th>kq3_cond_parq4</th>\n",
              "      <th>kq4_cond_parq4</th>\n",
              "      <th>kq5_cond_parq4</th>\n",
              "      <th>kq1_cond_parq5</th>\n",
              "      <th>kq2_cond_parq5</th>\n",
              "      <th>kq3_cond_parq5</th>\n",
              "      <th>kq4_cond_parq5</th>\n",
              "      <th>kq5_cond_parq5</th>\n",
              "      <th>ktop1pc_cond_parq1</th>\n",
              "      <th>ktop1pc_cond_parq2</th>\n",
              "      <th>ktop1pc_cond_parq3</th>\n",
              "      <th>ktop1pc_cond_parq4</th>\n",
              "      <th>ktop1pc_cond_parq5</th>\n",
              "      <th>k_married_cond_parq1</th>\n",
              "      <th>k_married_cond_parq2</th>\n",
              "      <th>k_married_cond_parq3</th>\n",
              "      <th>k_married_cond_parq4</th>\n",
              "      <th>k_married_cond_parq5</th>\n",
              "    </tr>\n",
              "  </thead>\n",
              "  <tbody>\n",
              "    <tr>\n",
              "      <th>0</th>\n",
              "      <td>30955</td>\n",
              "      <td>1980</td>\n",
              "      <td>ASA Institute Of Business &amp; Computer Technology</td>\n",
              "      <td>3.0</td>\n",
              "      <td>11</td>\n",
              "      <td>Two-year for-profit</td>\n",
              "      <td>2.0</td>\n",
              "      <td>1.0</td>\n",
              "      <td>NY</td>\n",
              "      <td>19400.0</td>\n",
              "      <td>New York</td>\n",
              "      <td>36047.0</td>\n",
              "      <td>Kings</td>\n",
              "      <td>0.0</td>\n",
              "      <td>NaN</td>\n",
              "      <td>0.0</td>\n",
              "      <td>NaN</td>\n",
              "      <td>NaN</td>\n",
              "      <td>NaN</td>\n",
              "      <td>NaN</td>\n",
              "      <td>NaN</td>\n",
              "      <td>NaN</td>\n",
              "      <td>NaN</td>\n",
              "      <td>NaN</td>\n",
              "      <td>NaN</td>\n",
              "      <td>NaN</td>\n",
              "      <td>NaN</td>\n",
              "      <td>NaN</td>\n",
              "      <td>NaN</td>\n",
              "      <td>NaN</td>\n",
              "      <td>NaN</td>\n",
              "      <td>NaN</td>\n",
              "      <td>NaN</td>\n",
              "      <td>NaN</td>\n",
              "      <td>NaN</td>\n",
              "      <td>NaN</td>\n",
              "      <td>NaN</td>\n",
              "      <td>NaN</td>\n",
              "      <td>NaN</td>\n",
              "      <td>NaN</td>\n",
              "      <td>...</td>\n",
              "      <td>NaN</td>\n",
              "      <td>NaN</td>\n",
              "      <td>NaN</td>\n",
              "      <td>NaN</td>\n",
              "      <td>NaN</td>\n",
              "      <td>NaN</td>\n",
              "      <td>NaN</td>\n",
              "      <td>NaN</td>\n",
              "      <td>NaN</td>\n",
              "      <td>NaN</td>\n",
              "      <td>NaN</td>\n",
              "      <td>NaN</td>\n",
              "      <td>NaN</td>\n",
              "      <td>NaN</td>\n",
              "      <td>NaN</td>\n",
              "      <td>NaN</td>\n",
              "      <td>NaN</td>\n",
              "      <td>NaN</td>\n",
              "      <td>NaN</td>\n",
              "      <td>NaN</td>\n",
              "      <td>NaN</td>\n",
              "      <td>NaN</td>\n",
              "      <td>NaN</td>\n",
              "      <td>NaN</td>\n",
              "      <td>NaN</td>\n",
              "      <td>NaN</td>\n",
              "      <td>NaN</td>\n",
              "      <td>NaN</td>\n",
              "      <td>NaN</td>\n",
              "      <td>NaN</td>\n",
              "      <td>NaN</td>\n",
              "      <td>NaN</td>\n",
              "      <td>NaN</td>\n",
              "      <td>NaN</td>\n",
              "      <td>NaN</td>\n",
              "      <td>NaN</td>\n",
              "      <td>NaN</td>\n",
              "      <td>NaN</td>\n",
              "      <td>NaN</td>\n",
              "      <td>NaN</td>\n",
              "    </tr>\n",
              "    <tr>\n",
              "      <th>1</th>\n",
              "      <td>30955</td>\n",
              "      <td>1981</td>\n",
              "      <td>ASA Institute Of Business &amp; Computer Technology</td>\n",
              "      <td>3.0</td>\n",
              "      <td>11</td>\n",
              "      <td>Two-year for-profit</td>\n",
              "      <td>2.0</td>\n",
              "      <td>1.0</td>\n",
              "      <td>NY</td>\n",
              "      <td>19400.0</td>\n",
              "      <td>New York</td>\n",
              "      <td>36047.0</td>\n",
              "      <td>Kings</td>\n",
              "      <td>0.0</td>\n",
              "      <td>NaN</td>\n",
              "      <td>0.0</td>\n",
              "      <td>NaN</td>\n",
              "      <td>NaN</td>\n",
              "      <td>NaN</td>\n",
              "      <td>NaN</td>\n",
              "      <td>NaN</td>\n",
              "      <td>NaN</td>\n",
              "      <td>NaN</td>\n",
              "      <td>NaN</td>\n",
              "      <td>NaN</td>\n",
              "      <td>NaN</td>\n",
              "      <td>NaN</td>\n",
              "      <td>NaN</td>\n",
              "      <td>NaN</td>\n",
              "      <td>NaN</td>\n",
              "      <td>NaN</td>\n",
              "      <td>NaN</td>\n",
              "      <td>NaN</td>\n",
              "      <td>NaN</td>\n",
              "      <td>NaN</td>\n",
              "      <td>NaN</td>\n",
              "      <td>NaN</td>\n",
              "      <td>NaN</td>\n",
              "      <td>NaN</td>\n",
              "      <td>NaN</td>\n",
              "      <td>...</td>\n",
              "      <td>NaN</td>\n",
              "      <td>NaN</td>\n",
              "      <td>NaN</td>\n",
              "      <td>NaN</td>\n",
              "      <td>NaN</td>\n",
              "      <td>NaN</td>\n",
              "      <td>NaN</td>\n",
              "      <td>NaN</td>\n",
              "      <td>NaN</td>\n",
              "      <td>NaN</td>\n",
              "      <td>NaN</td>\n",
              "      <td>NaN</td>\n",
              "      <td>NaN</td>\n",
              "      <td>NaN</td>\n",
              "      <td>NaN</td>\n",
              "      <td>NaN</td>\n",
              "      <td>NaN</td>\n",
              "      <td>NaN</td>\n",
              "      <td>NaN</td>\n",
              "      <td>NaN</td>\n",
              "      <td>NaN</td>\n",
              "      <td>NaN</td>\n",
              "      <td>NaN</td>\n",
              "      <td>NaN</td>\n",
              "      <td>NaN</td>\n",
              "      <td>NaN</td>\n",
              "      <td>NaN</td>\n",
              "      <td>NaN</td>\n",
              "      <td>NaN</td>\n",
              "      <td>NaN</td>\n",
              "      <td>NaN</td>\n",
              "      <td>NaN</td>\n",
              "      <td>NaN</td>\n",
              "      <td>NaN</td>\n",
              "      <td>NaN</td>\n",
              "      <td>NaN</td>\n",
              "      <td>NaN</td>\n",
              "      <td>NaN</td>\n",
              "      <td>NaN</td>\n",
              "      <td>NaN</td>\n",
              "    </tr>\n",
              "  </tbody>\n",
              "</table>\n",
              "<p>2 rows × 82 columns</p>\n",
              "</div>"
            ],
            "text/plain": [
              "   super_opeid  cohort  ... k_married_cond_parq4  k_married_cond_parq5\n",
              "0        30955    1980  ...                  NaN                   NaN\n",
              "1        30955    1981  ...                  NaN                   NaN\n",
              "\n",
              "[2 rows x 82 columns]"
            ]
          },
          "metadata": {
            "tags": []
          },
          "execution_count": 68
        }
      ]
    },
    {
      "cell_type": "markdown",
      "metadata": {
        "id": "p2i_C80cNaEk"
      },
      "source": [
        "## Get to Know the Dataset\n",
        "\n",
        "In this section, you are going to display the distribution of some attributes to better understand the data you are dealing with."
      ]
    },
    {
      "cell_type": "markdown",
      "metadata": {
        "id": "rGyEj6s9TlDa"
      },
      "source": [
        "### Q1: NaN Values\n",
        "\n",
        "In this notebook, we are not interested in all of the attributes. From the non-financial attributes, we are only interested in the `cohort`, `name`, `tier_name` and `type` columns. You need to make sure that there is no NaN value in these columns. And for the financial attributes we're interested in the all of the columns begining with `par_mean` (index 17 in the columns) till the end.\n",
        "\n",
        "1. Check and print the NaN distributions in `cohort`, `name`, `tier_name` and `type` columns. If there are any NaN values in those columns, remove the corresponding rows.\n",
        "2. Directly remove the rows where at least one NaN value exists in the financial attributes. *Notice that the columns starting from index 17 till the end are all financial attributes.*\n"
      ]
    },
    {
      "cell_type": "code",
      "metadata": {
        "id": "CTreFkXRb_FP",
        "colab": {
          "base_uri": "https://localhost:8080/"
        },
        "outputId": "d022c2f4-d8a0-43f4-98cf-ae2eee89261b"
      },
      "source": [
        "fname = \"mrc_table3.csv\"\n",
        "df = pd.read_csv(join(path_prefix, fname))\n",
        "\n",
        "df_temp0 = df.loc[:, ('super_opeid','tier','iclevel','region','state','cz',\n",
        "              'czname','cfips','county','multi','count','female','k_married')]\n",
        "df_temp0['index'] = df.index\n",
        "\n",
        "columns_to_check = ['cohort', 'name', 'tier_name', 'type']\n",
        "\n",
        "for col in columns_to_check:\n",
        "  if(df[col].isnull().values.any()):\n",
        "    print(\"The percentage of rows with NaN value in\", col, \"column is:\",\n",
        "          \"%\"+str(100*df[col].isnull().sum()/df.shape[0]))\n",
        "  else:\n",
        "    print(\"There is no NaN value in\", col, \"column. So percentage is %0\")\n",
        "\n",
        "#create a temp dataframe for first 4 columns intended by slicing the main df\n",
        "#create an index column in it, print the null situations in boolean, then delete\n",
        "df_temp1 = df.loc[:, ('cohort', 'name', 'tier_name', 'type')]\n",
        "df_temp1['index'] = df.index\n",
        "df_temp1 = df_temp1.dropna()\n",
        "\n",
        "df_temp2 = df.iloc[:, 17:]\n",
        "df_temp2['index'] = df.index\n",
        "df_temp2 = df_temp2.dropna()\n",
        "\n",
        "#merge those two temp df's into main df with using that index column (inner merge)\n",
        "df_temp1 = df_temp1.merge(df_temp2, on='index')\n",
        "df = df_temp0.merge(df_temp1, on='index')\n",
        "df = df.drop(columns=['index'])\n",
        "\n",
        "#just to check how many rows and columns are remained\n",
        "df.shape"
      ],
      "execution_count": 98,
      "outputs": [
        {
          "output_type": "stream",
          "text": [
            "There is no NaN value in cohort column. So percentage is %0\n",
            "There is no NaN value in name column. So percentage is %0\n",
            "There is no NaN value in tier_name column. So percentage is %0\n",
            "The percentage of rows with NaN value in type column is: %0.08113590263691683\n"
          ],
          "name": "stdout"
        },
        {
          "output_type": "execute_result",
          "data": {
            "text/plain": [
              "(26095, 82)"
            ]
          },
          "metadata": {
            "tags": []
          },
          "execution_count": 98
        }
      ]
    },
    {
      "cell_type": "markdown",
      "metadata": {
        "id": "r6eR2fpjPSpW"
      },
      "source": [
        "### Q2: College Tier Distribution\n",
        "\n",
        "In the dataset, colleges are categorized into types and tiers at differing granularities. In the `type` column, the colleges are categorized as `public`, `private non-profit` and `for-profit`.\n",
        "\n",
        "Find the number of colleges in each type and display their percentages as a bar chart. \n",
        "\n",
        "The result should look like the figure below.\n",
        "\n",
        "![](https://i.ibb.co/2gSJCQ6/q1-1.png)"
      ]
    },
    {
      "cell_type": "code",
      "metadata": {
        "id": "fmYDpeI0OQMe",
        "colab": {
          "base_uri": "https://localhost:8080/",
          "height": 350
        },
        "outputId": "d7c30419-384f-4e26-edb4-af4733f8e00f"
      },
      "source": [
        "#find the frequency of each college tier\n",
        "index, counts = np.unique(df['type'], return_counts=True)\n",
        "summ = sum(counts)\n",
        "counts = [100*i/summ for i in counts]   #find the percentage of each\n",
        "dictionary = {1:\"public\", 2:\"private non-profit\", 3:\"for-profit\"}\n",
        "width_values =  np.vectorize(dictionary.get)(index)   #map them to y-axis\n",
        "\n",
        "#use barh function to print a matrix in a horizontal way\n",
        "plt.figure(figsize=(10, 5))\n",
        "plt.barh(width_values[::-1], counts[::-1], height = 0.5, clip_on = True, edgecolor = 'white') \n",
        "\n",
        "#names of label titles\n",
        "plt.xlabel(\"Share\") \n",
        "plt.ylabel(\"type\")\n",
        "plt.title(\"College Distrubution by Type\") \n",
        "\n",
        "#creating grid as white lines and ticks with given lists\n",
        "tickvalues = np.linspace(0, 50, 5)\n",
        "labels = [f\"{int(round(value))}%\" for value in tickvalues]\n",
        "plt.xticks(ticks = tickvalues ,labels = labels)\n",
        "plt.grid(which='major', axis='x', linestyle='-', color='white', linewidth=1)\n",
        "\n",
        "plt.suptitle('')\n",
        "plt.show()"
      ],
      "execution_count": 110,
      "outputs": [
        {
          "output_type": "display_data",
          "data": {
            "image/png": "[encoded data removed]",
            "text/plain": [
              "<Figure size 720x360 with 1 Axes>"
            ]
          },
          "metadata": {
            "tags": [],
            "needs_background": "light"
          }
        }
      ]
    },
    {
      "cell_type": "markdown",
      "metadata": {
        "id": "gU1udO6vRSrC"
      },
      "source": [
        "### Q3: Student & Parent Income Distribution\n",
        "\n",
        "Columns `par_mean` and `k_mean` store the mean income for the parents and students in a cohort. In order to understand the overall distribution, display the `par_mean` and `k_mean` attributes as boxplots on the same figure.\n",
        "\n",
        "However, the mean distributions are highly skewed. So, in order to better evaluate the distributions, we can remove the outliers. \n",
        "\n",
        "- Create a 2x1 grid layout. Display the boxplots of the original distributions on the left. \n",
        "\n",
        "- Remove the outliers from both of the distributions by utilizing 1.5xIQR rule.\n",
        "\n",
        "- Generate the boxplots for the resulting distributions on the right axes. \n",
        "\n",
        "The result should look like the figure below.\n",
        "\n",
        "![](https://i.ibb.co/YkSzc9d/q2.png)"
      ]
    },
    {
      "cell_type": "code",
      "metadata": {
        "colab": {
          "base_uri": "https://localhost:8080/",
          "height": 390
        },
        "id": "_xL80g7hWexc",
        "outputId": "e5a224c8-7cab-4e55-f09b-db2f952a0557"
      },
      "source": [
        "fig, axes = plt.subplots(1, 2, figsize=(18,6))    #2x1 grid creation\n",
        "df.boxplot(column=['par_mean', 'k_mean'], ax=axes[0])\n",
        "\n",
        "#define the Q3 an Q1 of those data's (Interquartile range)\n",
        "q1p, q3p = df[\"par_mean\"].quantile(0.25), df[\"par_mean\"].quantile(0.75)\n",
        "q1k, q3k = df[\"k_mean\"].quantile(0.25), df[\"k_mean\"].quantile(0.75)\n",
        "\n",
        "#use them to exclude outliers by 1.5 * IQR rule\n",
        "df_exc_outliers = df[((df[\"par_mean\"] < q3p + 1.5 * (q3p-q1p)) & \n",
        "                      (df[\"par_mean\"] > q1p - 1.5 * (q3p-q1p)))\n",
        "                    &((df[\"k_mean\"] < q3k + 1.5 * (q3k-q1k)) & \n",
        "                      (df[\"k_mean\"] > q1k - 1.5 * (q3k-q1k)))]\n",
        "df_exc_outliers.boxplot(ax = axes[1], column=['par_mean', 'k_mean'], \n",
        "  color = dict(boxes=\"black\", whiskers=\"black\", medians=\"orange\", caps=\"black\"))\n",
        "\n",
        "ticks, labels = [[], []], [[], []]\n",
        "for i in range(len(axes)):\n",
        "  if i == 0:\n",
        "    dataframe = df\n",
        "  elif i == 1:\n",
        "    dataframe = df_exc_outliers\n",
        "\n",
        "  #specify the values of ticks and strings of labels\n",
        "  minn = dataframe[['par_mean','k_mean']].min().min()\n",
        "  maxx = dataframe[['par_mean','k_mean']].max().max()\n",
        "  ticks[i] = np.arange(minn, maxx+(maxx-minn)/9, (maxx-minn)/9)\n",
        "  labels[i] = ['$'+str(int(round(i/1000)))+'K' for i in ticks[i]]\n",
        "\n",
        "  axes[i].set_ylabel(\"Income in ($) Thousands\") #specify the ticks and labels\n",
        "  axes[i].set_yticks(ticks[i])\n",
        "  axes[i].set_yticklabels(labels[i])\n",
        "  axes[i].set_xticklabels([\"Parent Mean Income\", \"Student Mean Income\"])\n",
        "  \n",
        "axes[0].set_title(\"Mean Income Distribution per Parent and Students\") \n",
        "axes[1].set_title(\"Mean Income Distribution per Parent and Students - Outliers Removed\")\n",
        "\n",
        "plt.suptitle('')\n",
        "plt.show()"
      ],
      "execution_count": 111,
      "outputs": [
        {
          "output_type": "display_data",
          "data": {
            "image/png": "[encoded data removed]",
            "text/plain": [
              "<Figure size 1296x432 with 2 Axes>"
            ]
          },
          "metadata": {
            "tags": [],
            "needs_background": "light"
          }
        }
      ]
    },
    {
      "cell_type": "markdown",
      "metadata": {
        "id": "HSBrIqgmdfR-"
      },
      "source": [
        "## Bivariate Analysis\n",
        "\n",
        "In this section,  you are going to perform bivariate analysis on different attribute pairs."
      ]
    },
    {
      "cell_type": "markdown",
      "metadata": {
        "id": "YXeg-MLgdt5O"
      },
      "source": [
        "### Q1: Parent Income Distribution by College Tier\n",
        "\n",
        "The income distribution is highly skewed as it can be observed in the previous question. With the generated charts, we see how the overall distribution is shaped with the help of boxplots. However, we can not observe how this distribution changes with respect to college tiers.\n",
        "\n",
        "As you can see from the shared data dictionary, there are 14 different college types. Instead of putting all of the tiers into account, in this question, you are going to focus on 6 of them: `Ivy Plus, Other elite schools (public and private), Highly selective public, Highly selective private, Selective public, Selective private`. Display the `par_mean` distribution for each of the selected tiers.\n",
        "\n",
        "- Group the dataframe with respect to the selected tier types.\n",
        "- For each group, display the `par_mean` attribute on the same figure as a boxplot.\n",
        "- Sort the boxplots with respect to their medians.\n",
        "\n",
        "The result should look like the figure below.\n",
        "\n",
        "![](https://iili.io/FMJMn1.png)\n"
      ]
    },
    {
      "cell_type": "code",
      "metadata": {
        "colab": {
          "base_uri": "https://localhost:8080/",
          "height": 338
        },
        "id": "VaHfVIA0esdI",
        "outputId": "cbdbacff-ab9e-49bb-c857-3aab87d79198"
      },
      "source": [
        "#creating a temp dataframe to only contain tier_name and par_mean\n",
        "df_tier = df[['tier_name', 'par_mean']]\n",
        "indices = df[df['tier'] > 6].index\n",
        "df_tier = df_tier.drop(indices)\n",
        "\n",
        "#define the max and min value to indicate them in the graph, properly\n",
        "minn = df_tier['par_mean'].min()\n",
        "maxx = df_tier['par_mean'].max()\n",
        "\n",
        "#creation of a key map to sort dataframe according to median\n",
        "sorter = df_tier.groupby('tier_name').median().sort_values('par_mean').index\n",
        "sorterMap = dict(zip(sorter, range(len(sorter))))\n",
        "\n",
        "#add a temporary column called tier_rank to store median's order\n",
        "df_tier['tier_rank'] = df_tier['tier_name'].map(sorterMap)\n",
        "\n",
        "#sort the dataframe according to median order (tier_rank), then get rid of \n",
        "#that temporary column, finally groupby tier_name without sorting them again.\n",
        "df_tier.sort_values(['tier_rank'], ascending = [True], inplace = True)\n",
        "df_tier.drop('tier_rank', 1, inplace = True)\n",
        "df_tier = df_tier.groupby('tier_name', sort=False)\n",
        "\n",
        "#plot the dataframe with boxplot method, turn off the subplotting\n",
        "df_tier.boxplot(subplots=False, color = dict(boxes=\"black\", whiskers=\"black\", \n",
        "                 medians=\"orange\", caps=\"black\"), figsize=(15,5))\n",
        "\n",
        "#specify the ticks and labels \n",
        "tick = np.arange(minn, maxx+(maxx-minn)/9, (maxx-minn)/9)\n",
        "label = ['$'+str(int(i/1000))+'K' for i in tick]\n",
        "plt.yticks(tick, label)\n",
        "plt.xticks(range(1,7), sorter)\n",
        "plt.title(\"Parent Income Distribution by College Tier\", fontsize=16) \n",
        "plt.show()"
      ],
      "execution_count": 112,
      "outputs": [
        {
          "output_type": "display_data",
          "data": {
            "image/png": "[encoded data removed]",
            "text/plain": [
              "<Figure size 1080x360 with 1 Axes>"
            ]
          },
          "metadata": {
            "tags": [],
            "needs_background": "light"
          }
        }
      ]
    },
    {
      "cell_type": "markdown",
      "metadata": {
        "id": "Io8lIi9Y2yyq"
      },
      "source": [
        "### Q2: Mean Child Rank vs. Age at Income Measurement by College Tier\n",
        "\n",
        "In this question, you are going to display how the mean student income rank changes as the age of income measurement changes for the selected college tiers. In the dataset, we have students born between 1980 and 1991. In **2014**, their income level is measured. In the dataset, the `k_rank` column stores the student income rank.\n",
        "\n",
        "- First, find the age of each cohort by subtracting the birth years from the year of measurement and store them in a new column named `measurement_age`.\n",
        "\n",
        "- Group the dataframe by `tier_name` and `age`, and find the mean student income rank for each group.\n",
        "\n",
        "- For the listed tier names below, display the change of mean student income rank with respect to the age of measurement as a line chart.\n",
        "\n",
        "`Ivy Plus, Other elite schools (public and private), Highly selective public, Highly selective private, Selective public, Selective private`\n",
        "\n",
        "The result should look like the figure below.\n",
        "\n",
        "![](https://i.ibb.co/FJFZHX6/dd-3.png)\n",
        "\n",
        "*Hint: You may use the unstack function alongise transposition.*\n",
        "\n",
        "*Please visit the [documentation](https://pandas.pydata.org/pandas-docs/stable/reference/api/pandas.DataFrame.unstack.html) for the details on unstack, and [this link](https://cmdlinetips.com/2020/05/fun-with-pandas-groupby-aggregate-multi-index-and-unstack/) for the use cases.*\n",
        "\n"
      ]
    },
    {
      "cell_type": "code",
      "metadata": {
        "id": "NSz5Ooi42rhP",
        "colab": {
          "base_uri": "https://localhost:8080/",
          "height": 369
        },
        "outputId": "bc35c1df-efaf-47cb-90c5-639eab9d318c"
      },
      "source": [
        "#create a temporary dataframe to only show specific columns, drop the rows with unnecessary tiers\n",
        "df_age = df[['k_rank', 'tier_name']]\n",
        "indices = df[df['tier'] > 6].index\n",
        "df_age = df_age.drop(indices)\n",
        "#a new column for age of students, derived by cohort and year of measurement\n",
        "df_age['measurement_age'] = 2014 - df['cohort']\n",
        "\n",
        "#group by the tier name and measurement age, then take the transpose, finally plot (with grid and diamond points)\n",
        "fig, ax = plt.subplots(figsize=(10,5))\n",
        "df_age.groupby(['tier_name', 'measurement_age']).mean().unstack('tier_name').plot(legend=True, ax=ax, linestyle = '-', style='D', grid=True)\n",
        "\n",
        "#specify the title, labels and legend (append it to the outside and set names)\n",
        "ax.set_title(\"Mean Child Rank vs. Age at Income Measurement\\nBy College Tier\", fontsize=16)\n",
        "ax.set_xlabel(\"Age of Income Measurement\")\n",
        "ax.set_ylabel(\"Mean Student Income Rank\")\n",
        "ax.legend(title='Tier', bbox_to_anchor=(1.001, 1), loc='upper left', \n",
        "          labels=df_age.groupby(['tier_name']).mean().index)\n",
        "plt.show()"
      ],
      "execution_count": 113,
      "outputs": [
        {
          "output_type": "display_data",
          "data": {
            "image/png": "[encoded data removed]",
            "text/plain": [
              "<Figure size 720x360 with 1 Axes>"
            ]
          },
          "metadata": {
            "tags": [],
            "needs_background": "light"
          }
        }
      ]
    },
    {
      "cell_type": "markdown",
      "metadata": {
        "id": "nsDT_bBC7367"
      },
      "source": [
        "## Mobility Rate\n",
        "\n",
        "The researchers analyzed the role of colleges for students to progress their income level, especially the students coming from lower quintiles that end up in higher quintiles in their adulthoods. To this end, they derive a new metric named `mobility rate`. \n",
        "\n",
        "> \"The fraction of students who come from bottom quintile and end up in top quintile\"\n",
        "\n",
        "![](https://i.ibb.co/rpTgXq0/pl.png)\n",
        "\n",
        "In the dataset `kq5_cond_parq1` column stores the success rate of each cohort; while `par_q1` column stores the access rates.\n",
        "\n",
        "In addition to defining the success rate as P(Child in Q5 | Parent in Q1), the researchers also developed the same rate with respect to student income percentiles: P(Child in **P1** | Parent in Q1) stands for the students who come from bottom quintile and end up in top 1% percentile.  And `ktop1pc_cond_parq1` column stores those values for each cohort."
      ]
    },
    {
      "cell_type": "markdown",
      "metadata": {
        "id": "sK0XwYtQ78Pf"
      },
      "source": [
        "### Q1: Calculating the Mobility Rate\n",
        "\n",
        "In this question, you are going to calculate the mobility rate for each college and then find the top 10 colleges with the highest mobility rates.\n",
        "\n",
        "- For each cohort, in other words each row, calculate the mobility rate with both `kq5_cond_parq1` and `ktop1pc_cond_parq1` and store them in columns named `mobility_rate_q5` and `mobility_rate_p1`, respectively.\n",
        "  - `kq5_cond_parq1` * `par_q1` -> `mobility_rate_q5`\n",
        "  - `ktop1pc_cond_parq1` * `par_q1` -> `mobility_rate_p1`\n",
        "\n",
        "- Group the dataframe with respect to the colleges and find the mean of `mobility_rate_q5, mobility_rate_p1, kq5_cond_parq1, par_q1` columns. \n",
        "\n",
        "- First, sort the resulting groups, i.e. colleges, with respect to `mobility_rate_q5` and display the top 10 rows as a dataframe.\n",
        "\n",
        "- And lastly, sort the resulting groups with respect to `mobility_rate_p1` and display the top 10 rows as a dataframe."
      ]
    },
    {
      "cell_type": "code",
      "metadata": {
        "colab": {
          "base_uri": "https://localhost:8080/",
          "height": 729
        },
        "id": "JcSHpd30_yaV",
        "outputId": "1f156253-012a-4926-9deb-743227b2753e"
      },
      "source": [
        "#slice the dataframe with the intended rows\n",
        "df_mobility = df.loc[:, ('kq5_cond_parq1','ktop1pc_cond_parq1','par_q1','name')]\n",
        "#then create new columns with given formulas\n",
        "df_mobility.loc[:, 'mobility_rate_q5'] = df_mobility['kq5_cond_parq1'] * df_mobility['par_q1']\n",
        "df_mobility.loc[:, 'mobility_rate_p1'] = df_mobility['ktop1pc_cond_parq1'] * df_mobility['par_q1']\n",
        "\n",
        "#group by college then find the mean of each college\n",
        "df_mobility=df_mobility.groupby('name').mean()\n",
        "\n",
        "#print the 10 college with the highest mean of mobility rate\n",
        "display(df_mobility.sort_values(\"mobility_rate_q5\",ascending=False)[:10])\n",
        "display(df_mobility.sort_values(\"mobility_rate_p1\",ascending=False)[:10])"
      ],
      "execution_count": 114,
      "outputs": [
        {
          "output_type": "display_data",
          "data": {
            "text/html": [
              "<div>\n",
              "<style scoped>\n",
              "    .dataframe tbody tr th:only-of-type {\n",
              "        vertical-align: middle;\n",
              "    }\n",
              "\n",
              "    .dataframe tbody tr th {\n",
              "        vertical-align: top;\n",
              "    }\n",
              "\n",
              "    .dataframe thead th {\n",
              "        text-align: right;\n",
              "    }\n",
              "</style>\n",
              "<table border=\"1\" class=\"dataframe\">\n",
              "  <thead>\n",
              "    <tr style=\"text-align: right;\">\n",
              "      <th></th>\n",
              "      <th>kq5_cond_parq1</th>\n",
              "      <th>ktop1pc_cond_parq1</th>\n",
              "      <th>par_q1</th>\n",
              "      <th>mobility_rate_q5</th>\n",
              "      <th>mobility_rate_p1</th>\n",
              "    </tr>\n",
              "    <tr>\n",
              "      <th>name</th>\n",
              "      <th></th>\n",
              "      <th></th>\n",
              "      <th></th>\n",
              "      <th></th>\n",
              "      <th></th>\n",
              "    </tr>\n",
              "  </thead>\n",
              "  <tbody>\n",
              "    <tr>\n",
              "      <th>Vaughn College Of Aeronautics And Technology</th>\n",
              "      <td>0.357309</td>\n",
              "      <td>0.008407</td>\n",
              "      <td>0.323289</td>\n",
              "      <td>0.117558</td>\n",
              "      <td>0.002870</td>\n",
              "    </tr>\n",
              "    <tr>\n",
              "      <th>CUNY Bernard M. Baruch College</th>\n",
              "      <td>0.450410</td>\n",
              "      <td>0.027907</td>\n",
              "      <td>0.256923</td>\n",
              "      <td>0.117403</td>\n",
              "      <td>0.007083</td>\n",
              "    </tr>\n",
              "    <tr>\n",
              "      <th>CUNY Lehman College</th>\n",
              "      <td>0.255732</td>\n",
              "      <td>0.002970</td>\n",
              "      <td>0.342567</td>\n",
              "      <td>0.087978</td>\n",
              "      <td>0.001021</td>\n",
              "    </tr>\n",
              "    <tr>\n",
              "      <th>City College Of New York - CUNY</th>\n",
              "      <td>0.288997</td>\n",
              "      <td>0.010963</td>\n",
              "      <td>0.296387</td>\n",
              "      <td>0.087722</td>\n",
              "      <td>0.003299</td>\n",
              "    </tr>\n",
              "    <tr>\n",
              "      <th>Texas A&amp;M International University</th>\n",
              "      <td>0.268974</td>\n",
              "      <td>0.002826</td>\n",
              "      <td>0.291105</td>\n",
              "      <td>0.078556</td>\n",
              "      <td>0.000806</td>\n",
              "    </tr>\n",
              "    <tr>\n",
              "      <th>University Of Texas - Pan American</th>\n",
              "      <td>0.220468</td>\n",
              "      <td>0.007794</td>\n",
              "      <td>0.345399</td>\n",
              "      <td>0.076030</td>\n",
              "      <td>0.002675</td>\n",
              "    </tr>\n",
              "    <tr>\n",
              "      <th>CUNY John Jay College Of Criminal Justice</th>\n",
              "      <td>0.290769</td>\n",
              "      <td>0.003098</td>\n",
              "      <td>0.257754</td>\n",
              "      <td>0.075464</td>\n",
              "      <td>0.000800</td>\n",
              "    </tr>\n",
              "    <tr>\n",
              "      <th>Florida National University</th>\n",
              "      <td>0.144384</td>\n",
              "      <td>0.002686</td>\n",
              "      <td>0.530089</td>\n",
              "      <td>0.074975</td>\n",
              "      <td>0.001441</td>\n",
              "    </tr>\n",
              "    <tr>\n",
              "      <th>Crimson Technical College</th>\n",
              "      <td>0.291655</td>\n",
              "      <td>0.009361</td>\n",
              "      <td>0.248937</td>\n",
              "      <td>0.072232</td>\n",
              "      <td>0.002275</td>\n",
              "    </tr>\n",
              "    <tr>\n",
              "      <th>New York City College Of Technology Of The City University Of New</th>\n",
              "      <td>0.218030</td>\n",
              "      <td>0.003946</td>\n",
              "      <td>0.326892</td>\n",
              "      <td>0.071854</td>\n",
              "      <td>0.001247</td>\n",
              "    </tr>\n",
              "  </tbody>\n",
              "</table>\n",
              "</div>"
            ],
            "text/plain": [
              "                                                    kq5_cond_parq1  ...  mobility_rate_p1\n",
              "name                                                                ...                  \n",
              "Vaughn College Of Aeronautics And Technology              0.357309  ...          0.002870\n",
              "CUNY Bernard M. Baruch College                            0.450410  ...          0.007083\n",
              "CUNY Lehman College                                       0.255732  ...          0.001021\n",
              "City College Of New York - CUNY                           0.288997  ...          0.003299\n",
              "Texas A&M International University                        0.268974  ...          0.000806\n",
              "University Of Texas - Pan American                        0.220468  ...          0.002675\n",
              "CUNY John Jay College Of Criminal Justice                 0.290769  ...          0.000800\n",
              "Florida National University                               0.144384  ...          0.001441\n",
              "Crimson Technical College                                 0.291655  ...          0.002275\n",
              "New York City College Of Technology Of The City...        0.218030  ...          0.001247\n",
              "\n",
              "[10 rows x 5 columns]"
            ]
          },
          "metadata": {
            "tags": []
          }
        },
        {
          "output_type": "display_data",
          "data": {
            "text/html": [
              "<div>\n",
              "<style scoped>\n",
              "    .dataframe tbody tr th:only-of-type {\n",
              "        vertical-align: middle;\n",
              "    }\n",
              "\n",
              "    .dataframe tbody tr th {\n",
              "        vertical-align: top;\n",
              "    }\n",
              "\n",
              "    .dataframe thead th {\n",
              "        text-align: right;\n",
              "    }\n",
              "</style>\n",
              "<table border=\"1\" class=\"dataframe\">\n",
              "  <thead>\n",
              "    <tr style=\"text-align: right;\">\n",
              "      <th></th>\n",
              "      <th>kq5_cond_parq1</th>\n",
              "      <th>ktop1pc_cond_parq1</th>\n",
              "      <th>par_q1</th>\n",
              "      <th>mobility_rate_q5</th>\n",
              "      <th>mobility_rate_p1</th>\n",
              "    </tr>\n",
              "    <tr>\n",
              "      <th>name</th>\n",
              "      <th></th>\n",
              "      <th></th>\n",
              "      <th></th>\n",
              "      <th></th>\n",
              "      <th></th>\n",
              "    </tr>\n",
              "  </thead>\n",
              "  <tbody>\n",
              "    <tr>\n",
              "      <th>South Texas Vocational Technical Institute</th>\n",
              "      <td>0.079329</td>\n",
              "      <td>0.018328</td>\n",
              "      <td>0.678088</td>\n",
              "      <td>0.052845</td>\n",
              "      <td>0.011787</td>\n",
              "    </tr>\n",
              "    <tr>\n",
              "      <th>MCPHS University</th>\n",
              "      <td>0.647694</td>\n",
              "      <td>0.141582</td>\n",
              "      <td>0.080610</td>\n",
              "      <td>0.053137</td>\n",
              "      <td>0.011090</td>\n",
              "    </tr>\n",
              "    <tr>\n",
              "      <th>Maine Maritime Academy</th>\n",
              "      <td>0.553291</td>\n",
              "      <td>0.185993</td>\n",
              "      <td>0.055043</td>\n",
              "      <td>0.031081</td>\n",
              "      <td>0.010220</td>\n",
              "    </tr>\n",
              "    <tr>\n",
              "      <th>Massachusetts Institute Of Technology</th>\n",
              "      <td>0.606782</td>\n",
              "      <td>0.193314</td>\n",
              "      <td>0.050916</td>\n",
              "      <td>0.030623</td>\n",
              "      <td>0.009822</td>\n",
              "    </tr>\n",
              "    <tr>\n",
              "      <th>California Institute Of Technology</th>\n",
              "      <td>0.584225</td>\n",
              "      <td>0.199786</td>\n",
              "      <td>0.044338</td>\n",
              "      <td>0.025567</td>\n",
              "      <td>0.008356</td>\n",
              "    </tr>\n",
              "    <tr>\n",
              "      <th>Uta Mesivta Of Kiryas Joel</th>\n",
              "      <td>0.107940</td>\n",
              "      <td>0.015728</td>\n",
              "      <td>0.521503</td>\n",
              "      <td>0.057186</td>\n",
              "      <td>0.008284</td>\n",
              "    </tr>\n",
              "    <tr>\n",
              "      <th>Saint Louis College Of Pharmacy</th>\n",
              "      <td>0.610534</td>\n",
              "      <td>0.236964</td>\n",
              "      <td>0.031245</td>\n",
              "      <td>0.020882</td>\n",
              "      <td>0.008196</td>\n",
              "    </tr>\n",
              "    <tr>\n",
              "      <th>Digipen Institute Of Technology</th>\n",
              "      <td>0.477062</td>\n",
              "      <td>0.131697</td>\n",
              "      <td>0.047609</td>\n",
              "      <td>0.022640</td>\n",
              "      <td>0.008002</td>\n",
              "    </tr>\n",
              "    <tr>\n",
              "      <th>Southwest University At El Paso</th>\n",
              "      <td>0.075927</td>\n",
              "      <td>0.016772</td>\n",
              "      <td>0.469441</td>\n",
              "      <td>0.034466</td>\n",
              "      <td>0.007532</td>\n",
              "    </tr>\n",
              "    <tr>\n",
              "      <th>SUNY Maritime College</th>\n",
              "      <td>0.593532</td>\n",
              "      <td>0.134106</td>\n",
              "      <td>0.052873</td>\n",
              "      <td>0.032812</td>\n",
              "      <td>0.007449</td>\n",
              "    </tr>\n",
              "  </tbody>\n",
              "</table>\n",
              "</div>"
            ],
            "text/plain": [
              "                                            kq5_cond_parq1  ...  mobility_rate_p1\n",
              "name                                                        ...                  \n",
              "South Texas Vocational Technical Institute        0.079329  ...          0.011787\n",
              "MCPHS University                                  0.647694  ...          0.011090\n",
              "Maine Maritime Academy                            0.553291  ...          0.010220\n",
              "Massachusetts Institute Of Technology             0.606782  ...          0.009822\n",
              "California Institute Of Technology                0.584225  ...          0.008356\n",
              "Uta Mesivta Of Kiryas Joel                        0.107940  ...          0.008284\n",
              "Saint Louis College Of Pharmacy                   0.610534  ...          0.008196\n",
              "Digipen Institute Of Technology                   0.477062  ...          0.008002\n",
              "Southwest University At El Paso                   0.075927  ...          0.007532\n",
              "SUNY Maritime College                             0.593532  ...          0.007449\n",
              "\n",
              "[10 rows x 5 columns]"
            ]
          },
          "metadata": {
            "tags": []
          }
        }
      ]
    },
    {
      "cell_type": "markdown",
      "metadata": {
        "id": "8ynG8WdQEGuk"
      },
      "source": [
        "### Q2: Success vs. Access Rates by College Tier\n",
        "\n",
        "And finally, you are going to check how success and access rates change for different college tiers. In this question, you are going to focus on two college tiers: `Ivy Plus` and `Two-year for-profit`. In addition, you are going to display this relationship using only the success rate definition 2: P(Child in P1 | Parent in Q1).\n",
        "\n",
        "- Group the dataframe by college and find the mean of success and access rates for each college.\n",
        "  - Success rate: \n",
        "    - Definition 2: P(Child in P1 | Par in Q1) -> ktop1pc_cond_parq1\n",
        "  - Access rate: P(Par in Q1) -> par_q1\n",
        "\n",
        "- Display a scatter plot in which access rates are encoded in x-axis and success rates in y-axis.\n",
        "\n",
        "- At the end, each dot on the figure would represent a college. Highlight `Ivy Plus` and `Two-year for-profit` with distinct color for separability.\n",
        "\n",
        "The result should look like the figure below.\n",
        "\n",
        "![](https://iili.io/FMJ6cG.png)"
      ]
    },
    {
      "cell_type": "code",
      "metadata": {
        "id": "PHuRp7APEFcc",
        "colab": {
          "base_uri": "https://localhost:8080/",
          "height": 431
        },
        "outputId": "adfed506-baab-4c81-fbd0-747e770e1c10"
      },
      "source": [
        "#Group the dataframe by college and find the mean of rows\n",
        "df_as = df.groupby(['tier_name', 'name']).mean()\n",
        "#get tier_name as a column\n",
        "df_as = df_as.reset_index()\n",
        "#only take the rows of success(ktop1pc_cond_parq1) and access(par_q1)\n",
        "df_as = df_as[[\"tier_name\",\"ktop1pc_cond_parq1\",\"par_q1\"]]\n",
        "\n",
        "#set the figure size of the table \n",
        "plt.figure(figsize=(12,6))\n",
        "\n",
        "#plot x and y points according to access and success, respectively\n",
        "plt.scatter(df_as[\"par_q1\"], df_as[\"ktop1pc_cond_parq1\"], color='gray', s=2)\n",
        "#but specify the points with the specified college name\n",
        "h1 = plt.scatter(df_as[df_as[\"tier_name\"] == \"Ivy Plus\"][\"par_q1\"], \n",
        "      df_as[df_as[\"tier_name\"] == \"Ivy Plus\"][\"ktop1pc_cond_parq1\"], color='orange') \n",
        "h2 = plt.scatter(df_as[df_as[\"tier_name\"] == \"Two-year for-profit\"][\"par_q1\"],\n",
        "      df_as[df_as[\"tier_name\"] == \"Two-year for-profit\"][\"ktop1pc_cond_parq1\"], color='lightblue')\n",
        "\n",
        "#determine titles, labels and specify the legend with given scatter points\n",
        "plt.suptitle(\"Access vs Success Rates by College Tier\", fontsize=20)\n",
        "plt.ylabel(\"Success rate\")\n",
        "plt.xlabel(\"Access Rate: Percent of Parents in Bottom Quintile\")\n",
        "plt.grid(True)\n",
        "plt.legend((h1,h2), ['Ivy Plus', 'Two-year for-profit'], title='Tier')\n",
        "plt.show()"
      ],
      "execution_count": 115,
      "outputs": [
        {
          "output_type": "display_data",
          "data": {
            "image/png": "[encoded data removed]",
            "text/plain": [
              "<Figure size 864x432 with 1 Axes>"
            ]
          },
          "metadata": {
            "tags": [],
            "needs_background": "light"
          }
        }
      ]
    }
  ]
}